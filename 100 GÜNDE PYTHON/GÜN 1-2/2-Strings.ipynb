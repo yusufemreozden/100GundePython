{
 "cells": [
  {
   "cell_type": "code",
   "execution_count": 2,
   "id": "9e8f79e1-c2dd-4d6e-a950-0ec29aea21d2",
   "metadata": {},
   "outputs": [
    {
     "data": {
      "text/plain": [
       "'Hello World!'"
      ]
     },
     "execution_count": 2,
     "metadata": {},
     "output_type": "execute_result"
    }
   ],
   "source": [
    "\"Hello World!\""
   ]
  },
  {
   "cell_type": "code",
   "execution_count": 6,
   "id": "6516f0c4-6605-430e-baba-ab5f729080fb",
   "metadata": {},
   "outputs": [
    {
     "name": "stdout",
     "output_type": "stream",
     "text": [
      "Hello World!\n"
     ]
    }
   ],
   "source": [
    "print(\"Hello World!\")"
   ]
  },
  {
   "cell_type": "code",
   "execution_count": 8,
   "id": "72f0c3c8-92e0-4a7e-aa8a-20e593caa539",
   "metadata": {},
   "outputs": [],
   "source": [
    "name = \"emre\""
   ]
  },
  {
   "cell_type": "code",
   "execution_count": 10,
   "id": "9bbfe3d0-e2ad-4af9-ad5f-0f49da2a280e",
   "metadata": {},
   "outputs": [
    {
     "name": "stdout",
     "output_type": "stream",
     "text": [
      "emre\n"
     ]
    }
   ],
   "source": [
    "print(name)"
   ]
  },
  {
   "cell_type": "code",
   "execution_count": 12,
   "id": "c2968a55-c034-4b23-aa2a-441617bfa6f0",
   "metadata": {},
   "outputs": [
    {
     "data": {
      "text/plain": [
       "str"
      ]
     },
     "execution_count": 12,
     "metadata": {},
     "output_type": "execute_result"
    }
   ],
   "source": [
    "type(name)"
   ]
  },
  {
   "cell_type": "code",
   "execution_count": 22,
   "id": "13bcd613-631a-4a7a-b779-432f17477236",
   "metadata": {},
   "outputs": [
    {
     "name": "stdout",
     "output_type": "stream",
     "text": [
      "emreemre\n"
     ]
    }
   ],
   "source": [
    "print(name+name)"
   ]
  },
  {
   "cell_type": "code",
   "execution_count": 24,
   "id": "dafa3f40-e595-4649-a6ce-bb5d7660284c",
   "metadata": {},
   "outputs": [],
   "source": [
    "name = \"yusuf emre\""
   ]
  },
  {
   "cell_type": "code",
   "execution_count": 26,
   "id": "93b85035-e289-4fd4-a75a-7ef7d8d3dc66",
   "metadata": {},
   "outputs": [
    {
     "data": {
      "text/plain": [
       "'Yusuf emre'"
      ]
     },
     "execution_count": 26,
     "metadata": {},
     "output_type": "execute_result"
    }
   ],
   "source": [
    "name.capitalize()"
   ]
  },
  {
   "cell_type": "code",
   "execution_count": 34,
   "id": "5b03b468-caef-41a4-8f88-fbe6b7b097bb",
   "metadata": {},
   "outputs": [
    {
     "name": "stdout",
     "output_type": "stream",
     "text": [
      "Help on built-in function count:\n",
      "\n",
      "count(...) method of builtins.str instance\n",
      "    S.count(sub[, start[, end]]) -> int\n",
      "\n",
      "    Return the number of non-overlapping occurrences of substring sub in\n",
      "    string S[start:end].  Optional arguments start and end are\n",
      "    interpreted as in slice notation.\n",
      "\n"
     ]
    }
   ],
   "source": [
    "help(name.count)"
   ]
  },
  {
   "cell_type": "code",
   "execution_count": 38,
   "id": "a0ac8830-9bfa-475d-bf16-c28dd75e0ef6",
   "metadata": {},
   "outputs": [
    {
     "data": {
      "text/plain": [
       "2"
      ]
     },
     "execution_count": 38,
     "metadata": {},
     "output_type": "execute_result"
    }
   ],
   "source": [
    "name.count(\"e\")"
   ]
  },
  {
   "cell_type": "code",
   "execution_count": 40,
   "id": "3431e8c2-0452-4ea1-ac99-48e589db5233",
   "metadata": {},
   "outputs": [
    {
     "data": {
      "text/plain": [
       "'YUSUF EMRE'"
      ]
     },
     "execution_count": 40,
     "metadata": {},
     "output_type": "execute_result"
    }
   ],
   "source": [
    "name.upper()"
   ]
  },
  {
   "cell_type": "code",
   "execution_count": 42,
   "id": "fd969723-38e7-4675-8da9-20963119764f",
   "metadata": {},
   "outputs": [],
   "source": [
    "upperName = name.upper()"
   ]
  },
  {
   "cell_type": "code",
   "execution_count": 44,
   "id": "62fa945f-2799-48de-bf00-ac760e776b7a",
   "metadata": {},
   "outputs": [
    {
     "name": "stdout",
     "output_type": "stream",
     "text": [
      "YUSUF EMRE\n"
     ]
    }
   ],
   "source": [
    "print(upperName)"
   ]
  },
  {
   "cell_type": "code",
   "execution_count": 46,
   "id": "69e6288d-c50b-4c10-b4a2-e7c6f33b0c28",
   "metadata": {},
   "outputs": [
    {
     "data": {
      "text/plain": [
       "'YUSUF EMRE'"
      ]
     },
     "execution_count": 46,
     "metadata": {},
     "output_type": "execute_result"
    }
   ],
   "source": [
    "upperName"
   ]
  },
  {
   "cell_type": "code",
   "execution_count": 48,
   "id": "75404e9f-9178-45ae-98dd-cf2e3709632a",
   "metadata": {},
   "outputs": [
    {
     "data": {
      "text/plain": [
       "10"
      ]
     },
     "execution_count": 48,
     "metadata": {},
     "output_type": "execute_result"
    }
   ],
   "source": [
    "len(name) #length"
   ]
  },
  {
   "cell_type": "code",
   "execution_count": 52,
   "id": "72c959d5-9d4d-4478-be43-45c1f2ebb86f",
   "metadata": {},
   "outputs": [
    {
     "name": "stdout",
     "output_type": "stream",
     "text": [
      "Merhaba\n",
      "Kahrolası\n",
      "Dünya!\n"
     ]
    }
   ],
   "source": [
    "print(\"Merhaba\\nKahrolası\\nDünya!\") #new line"
   ]
  },
  {
   "cell_type": "code",
   "execution_count": null,
   "id": "7e6d6663-ef33-47f1-bb66-36c80db602a2",
   "metadata": {},
   "outputs": [],
   "source": []
  }
 ],
 "metadata": {
  "kernelspec": {
   "display_name": "Python 3 (ipykernel)",
   "language": "python",
   "name": "python3"
  },
  "language_info": {
   "codemirror_mode": {
    "name": "ipython",
    "version": 3
   },
   "file_extension": ".py",
   "mimetype": "text/x-python",
   "name": "python",
   "nbconvert_exporter": "python",
   "pygments_lexer": "ipython3",
   "version": "3.12.4"
  }
 },
 "nbformat": 4,
 "nbformat_minor": 5
}
