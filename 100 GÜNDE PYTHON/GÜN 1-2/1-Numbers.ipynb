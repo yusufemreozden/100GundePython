{
 "cells": [
  {
   "cell_type": "code",
   "execution_count": 2,
   "id": "01d5fce8-e9e0-4ed0-a0e4-eef0e0bf66e1",
   "metadata": {},
   "outputs": [
    {
     "data": {
      "text/plain": [
       "8"
      ]
     },
     "execution_count": 2,
     "metadata": {},
     "output_type": "execute_result"
    }
   ],
   "source": [
    "3+5"
   ]
  },
  {
   "cell_type": "code",
   "execution_count": 4,
   "id": "d697aedd-b229-4009-84e6-8bf4ae7c0621",
   "metadata": {},
   "outputs": [
    {
     "data": {
      "text/plain": [
       "12"
      ]
     },
     "execution_count": 4,
     "metadata": {},
     "output_type": "execute_result"
    }
   ],
   "source": [
    "4*3"
   ]
  },
  {
   "cell_type": "code",
   "execution_count": 8,
   "id": "2f815a81-18eb-42a9-bfc5-a8819ac192dd",
   "metadata": {},
   "outputs": [
    {
     "data": {
      "text/plain": [
       "128.57142857142858"
      ]
     },
     "execution_count": 8,
     "metadata": {},
     "output_type": "execute_result"
    }
   ],
   "source": [
    "900/7"
   ]
  },
  {
   "cell_type": "code",
   "execution_count": 10,
   "id": "019bf4ab-a30d-4573-8ab3-341c2312ccd9",
   "metadata": {},
   "outputs": [
    {
     "data": {
      "text/plain": [
       "15625"
      ]
     },
     "execution_count": 10,
     "metadata": {},
     "output_type": "execute_result"
    }
   ],
   "source": [
    "5*5*5*5*5*5"
   ]
  },
  {
   "cell_type": "code",
   "execution_count": 16,
   "id": "3b74aaa5-6566-4722-92e7-d614a2fb2690",
   "metadata": {},
   "outputs": [],
   "source": [
    "yas = 30"
   ]
  },
  {
   "cell_type": "code",
   "execution_count": 18,
   "id": "dbd064b3-5824-4b9e-8bf4-7b7745e09688",
   "metadata": {},
   "outputs": [
    {
     "data": {
      "text/plain": [
       "15.0"
      ]
     },
     "execution_count": 18,
     "metadata": {},
     "output_type": "execute_result"
    }
   ],
   "source": [
    "yas/2"
   ]
  },
  {
   "cell_type": "code",
   "execution_count": 20,
   "id": "b3ee3372-0f4c-4ee0-b6f5-c5eba9f1d90b",
   "metadata": {},
   "outputs": [],
   "source": [
    "# DATA TYPE"
   ]
  },
  {
   "cell_type": "code",
   "execution_count": 29,
   "id": "422c9250-cda2-457a-8fff-b6fc9d606426",
   "metadata": {},
   "outputs": [
    {
     "data": {
      "text/plain": [
       "int"
      ]
     },
     "execution_count": 29,
     "metadata": {},
     "output_type": "execute_result"
    }
   ],
   "source": [
    "type(yas)"
   ]
  },
  {
   "cell_type": "code",
   "execution_count": 31,
   "id": "56677cd7-068d-4f3c-b891-f5ea0ccd8347",
   "metadata": {},
   "outputs": [
    {
     "data": {
      "text/plain": [
       "float"
      ]
     },
     "execution_count": 31,
     "metadata": {},
     "output_type": "execute_result"
    }
   ],
   "source": [
    "type(yas/3)"
   ]
  },
  {
   "cell_type": "code",
   "execution_count": 33,
   "id": "3277a600-4981-4d7b-a304-803a9bd71552",
   "metadata": {},
   "outputs": [],
   "source": [
    "myFloat = 1.4533232443245343"
   ]
  },
  {
   "cell_type": "code",
   "execution_count": 35,
   "id": "040a2b95-abed-4193-9e7c-5306d65f2813",
   "metadata": {},
   "outputs": [
    {
     "data": {
      "text/plain": [
       "float"
      ]
     },
     "execution_count": 35,
     "metadata": {},
     "output_type": "execute_result"
    }
   ],
   "source": [
    "type(myFloat)"
   ]
  },
  {
   "cell_type": "code",
   "execution_count": 37,
   "id": "5cc1d8fd-867f-404c-9da8-d87ef74fdeb5",
   "metadata": {},
   "outputs": [
    {
     "data": {
      "text/plain": [
       "1.4533232443245343"
      ]
     },
     "execution_count": 37,
     "metadata": {},
     "output_type": "execute_result"
    }
   ],
   "source": [
    "myFloat+0"
   ]
  },
  {
   "cell_type": "code",
   "execution_count": 39,
   "id": "a189cc39-1788-4f91-a94d-bd025f58ab67",
   "metadata": {},
   "outputs": [
    {
     "data": {
      "text/plain": [
       "32"
      ]
     },
     "execution_count": 39,
     "metadata": {},
     "output_type": "execute_result"
    }
   ],
   "source": [
    "2 ** 5"
   ]
  },
  {
   "cell_type": "code",
   "execution_count": 41,
   "id": "b65a8e17-b26e-4056-9f41-f11f27ab06a7",
   "metadata": {},
   "outputs": [
    {
     "data": {
      "text/plain": [
       "1"
      ]
     },
     "execution_count": 41,
     "metadata": {},
     "output_type": "execute_result"
    }
   ],
   "source": [
    "10 % 3"
   ]
  },
  {
   "cell_type": "code",
   "execution_count": 43,
   "id": "9908f7d2-70b6-4128-adfc-cd89b9e0e251",
   "metadata": {},
   "outputs": [
    {
     "data": {
      "text/plain": [
       "0"
      ]
     },
     "execution_count": 43,
     "metadata": {},
     "output_type": "execute_result"
    }
   ],
   "source": [
    "10%2"
   ]
  },
  {
   "cell_type": "code",
   "execution_count": 45,
   "id": "3ef379f6-c052-4289-9a4e-563a0aacd0a0",
   "metadata": {},
   "outputs": [
    {
     "data": {
      "text/plain": [
       "int"
      ]
     },
     "execution_count": 45,
     "metadata": {},
     "output_type": "execute_result"
    }
   ],
   "source": [
    "type(10%2)"
   ]
  },
  {
   "cell_type": "code",
   "execution_count": null,
   "id": "b6fd14f6-0123-469e-858d-3796f334d725",
   "metadata": {},
   "outputs": [],
   "source": []
  }
 ],
 "metadata": {
  "kernelspec": {
   "display_name": "Python 3 (ipykernel)",
   "language": "python",
   "name": "python3"
  },
  "language_info": {
   "codemirror_mode": {
    "name": "ipython",
    "version": 3
   },
   "file_extension": ".py",
   "mimetype": "text/x-python",
   "name": "python",
   "nbconvert_exporter": "python",
   "pygments_lexer": "ipython3",
   "version": "3.12.4"
  }
 },
 "nbformat": 4,
 "nbformat_minor": 5
}
