{
 "cells": [
  {
   "cell_type": "code",
   "execution_count": 5,
   "id": "561a3522-4b24-48de-b89d-1c75886d4356",
   "metadata": {},
   "outputs": [],
   "source": [
    "x = 20\n",
    "def multiply(num):\n",
    "    x = 5\n",
    "    return num * x"
   ]
  },
  {
   "cell_type": "code",
   "execution_count": 7,
   "id": "f54a24ff-5296-4bf2-b50b-e61c298e8ee9",
   "metadata": {},
   "outputs": [
    {
     "data": {
      "text/plain": [
       "50"
      ]
     },
     "execution_count": 7,
     "metadata": {},
     "output_type": "execute_result"
    }
   ],
   "source": [
    "multiply(10)"
   ]
  },
  {
   "cell_type": "code",
   "execution_count": 9,
   "id": "95d5dd1b-181f-4e7e-8376-e446883770d1",
   "metadata": {},
   "outputs": [
    {
     "name": "stdout",
     "output_type": "stream",
     "text": [
      "20\n"
     ]
    }
   ],
   "source": [
    "print(x)"
   ]
  },
  {
   "cell_type": "code",
   "execution_count": 11,
   "id": "813e040a-e343-4852-82de-8bcb8c64d1f9",
   "metadata": {},
   "outputs": [],
   "source": [
    "x = 20\n",
    "def multiply(num):\n",
    "    x = 5\n",
    "    return num * x\n",
    "x = 10"
   ]
  },
  {
   "cell_type": "code",
   "execution_count": 13,
   "id": "8a197c10-e1fc-40fc-9605-7619f0faf854",
   "metadata": {},
   "outputs": [
    {
     "data": {
      "text/plain": [
       "50"
      ]
     },
     "execution_count": 13,
     "metadata": {},
     "output_type": "execute_result"
    }
   ],
   "source": [
    "multiply(10)"
   ]
  },
  {
   "cell_type": "code",
   "execution_count": 15,
   "id": "f26b15b0-12b8-4441-92d5-59a92f4cefa1",
   "metadata": {},
   "outputs": [
    {
     "name": "stdout",
     "output_type": "stream",
     "text": [
      "10\n"
     ]
    }
   ],
   "source": [
    "print(x)"
   ]
  },
  {
   "cell_type": "code",
   "execution_count": 17,
   "id": "45689902-b5de-47b8-be2e-364aa4f77ff6",
   "metadata": {},
   "outputs": [],
   "source": [
    "x = 20\n",
    "def multiply(num):\n",
    "    return num * x"
   ]
  },
  {
   "cell_type": "code",
   "execution_count": 19,
   "id": "6426eac1-19d3-44b7-8eb1-bf4e96e76324",
   "metadata": {},
   "outputs": [
    {
     "data": {
      "text/plain": [
       "200"
      ]
     },
     "execution_count": 19,
     "metadata": {},
     "output_type": "execute_result"
    }
   ],
   "source": [
    "multiply(10)"
   ]
  },
  {
   "cell_type": "markdown",
   "id": "b3512571-3f7d-4374-ac64-f1b21f462fb3",
   "metadata": {},
   "source": [
    "# LEGB --> Local Enclosing Global Built-in"
   ]
  },
  {
   "cell_type": "code",
   "execution_count": 22,
   "id": "efb44648-f1f6-4103-a83c-218a4c754503",
   "metadata": {},
   "outputs": [],
   "source": [
    "myString = \"emre\""
   ]
  },
  {
   "cell_type": "code",
   "execution_count": 36,
   "id": "6577d5b6-8ab6-4067-b57d-1ae0fc82728f",
   "metadata": {},
   "outputs": [],
   "source": [
    "def myFunction():\n",
    "    myString = \"emre 2\"\n",
    "    def myFunction2():\n",
    "        myString = \"emre 3\"\n",
    "        print(myString)"
   ]
  },
  {
   "cell_type": "code",
   "execution_count": 38,
   "id": "450e2d63-6333-4730-8085-896e9e8f6b14",
   "metadata": {},
   "outputs": [
    {
     "data": {
      "text/plain": [
       "'emre'"
      ]
     },
     "execution_count": 38,
     "metadata": {},
     "output_type": "execute_result"
    }
   ],
   "source": [
    "myString"
   ]
  },
  {
   "cell_type": "code",
   "execution_count": null,
   "id": "6e983e87-6ac5-4a9d-a01d-d4c8de6103a0",
   "metadata": {},
   "outputs": [],
   "source": []
  }
 ],
 "metadata": {
  "kernelspec": {
   "display_name": "Python 3 (ipykernel)",
   "language": "python",
   "name": "python3"
  },
  "language_info": {
   "codemirror_mode": {
    "name": "ipython",
    "version": 3
   },
   "file_extension": ".py",
   "mimetype": "text/x-python",
   "name": "python",
   "nbconvert_exporter": "python",
   "pygments_lexer": "ipython3",
   "version": "3.12.4"
  }
 },
 "nbformat": 4,
 "nbformat_minor": 5
}
