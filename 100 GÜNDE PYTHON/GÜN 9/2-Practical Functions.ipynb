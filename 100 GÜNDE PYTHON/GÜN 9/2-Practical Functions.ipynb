{
 "cells": [
  {
   "cell_type": "code",
   "execution_count": 97,
   "id": "473e2e4f-6025-4679-8a41-fe7d5e0c5802",
   "metadata": {},
   "outputs": [],
   "source": [
    "def halfDevideNumber(n):\n",
    "    return n/2"
   ]
  },
  {
   "cell_type": "code",
   "execution_count": 99,
   "id": "5eabeeb2-9f05-40bb-915e-7a8bca650d99",
   "metadata": {},
   "outputs": [
    {
     "data": {
      "text/plain": [
       "2.0"
      ]
     },
     "execution_count": 99,
     "metadata": {},
     "output_type": "execute_result"
    }
   ],
   "source": [
    "halfDevideNumber(4)"
   ]
  },
  {
   "cell_type": "code",
   "execution_count": 101,
   "id": "6fe01e73-4462-4d11-95f1-22176fd98058",
   "metadata": {},
   "outputs": [],
   "source": [
    "myList = [3,5,7,9,10,20,30]"
   ]
  },
  {
   "cell_type": "code",
   "execution_count": 91,
   "id": "248849c8-f6c4-45a0-8da0-c2196e0d80b7",
   "metadata": {},
   "outputs": [
    {
     "name": "stdout",
     "output_type": "stream",
     "text": [
      "[1.5, 2.5, 3.5, 4.5, 5.0, 10.0, 15.0]\n"
     ]
    }
   ],
   "source": [
    "myResultList = []\n",
    "for num in myList:\n",
    "    myResultList.append(halfDevideNumber(num))\n",
    "print(myResultList)"
   ]
  },
  {
   "cell_type": "code",
   "execution_count": 83,
   "id": "2b6d7532-4fee-4809-ad8d-5f5175274d67",
   "metadata": {},
   "outputs": [],
   "source": [
    "# \"MAP\" FONK. NE YAPAR? "
   ]
  },
  {
   "cell_type": "code",
   "execution_count": 107,
   "id": "65ed0841-7928-4f2b-aaf3-b3020bbd3027",
   "metadata": {},
   "outputs": [
    {
     "data": {
      "text/plain": [
       "<map at 0x12a08a2f0>"
      ]
     },
     "execution_count": 107,
     "metadata": {},
     "output_type": "execute_result"
    }
   ],
   "source": [
    "map(halfDevideNumber,myList)"
   ]
  },
  {
   "cell_type": "code",
   "execution_count": 109,
   "id": "5e072bca-c48e-4ad1-a60a-ed49431a2041",
   "metadata": {},
   "outputs": [
    {
     "data": {
      "text/plain": [
       "[1.5, 2.5, 3.5, 4.5, 5.0, 10.0, 15.0]"
      ]
     },
     "execution_count": 109,
     "metadata": {},
     "output_type": "execute_result"
    }
   ],
   "source": [
    "list(map(halfDevideNumber,myList))"
   ]
  },
  {
   "cell_type": "code",
   "execution_count": 117,
   "id": "e3acede7-863e-4332-a0f6-02ddea6deda5",
   "metadata": {},
   "outputs": [],
   "source": [
    "def controlString(string):\n",
    "    return \"emre\" in string"
   ]
  },
  {
   "cell_type": "code",
   "execution_count": 119,
   "id": "f8ddc802-08a8-45eb-988c-98542c037ba4",
   "metadata": {},
   "outputs": [
    {
     "data": {
      "text/plain": [
       "True"
      ]
     },
     "execution_count": 119,
     "metadata": {},
     "output_type": "execute_result"
    }
   ],
   "source": [
    "controlString(\"yusuf emre ozden\")"
   ]
  },
  {
   "cell_type": "code",
   "execution_count": 121,
   "id": "6bf05d96-c563-4de7-83d9-bde3314787da",
   "metadata": {},
   "outputs": [
    {
     "data": {
      "text/plain": [
       "False"
      ]
     },
     "execution_count": 121,
     "metadata": {},
     "output_type": "execute_result"
    }
   ],
   "source": [
    "controlString(\"yusuf ozden\")"
   ]
  },
  {
   "cell_type": "code",
   "execution_count": 125,
   "id": "aa938651-63dc-44cc-9145-8d6fe8abee72",
   "metadata": {},
   "outputs": [],
   "source": [
    "myStringList = [\"yusuf\",\"emre\",\"ozden\",\"thisisozden\",\"yusufemreozden\"]"
   ]
  },
  {
   "cell_type": "code",
   "execution_count": 127,
   "id": "59387632-7f94-459d-bedd-200400995143",
   "metadata": {},
   "outputs": [
    {
     "data": {
      "text/plain": [
       "<map at 0x129a63b20>"
      ]
     },
     "execution_count": 127,
     "metadata": {},
     "output_type": "execute_result"
    }
   ],
   "source": [
    "map(controlString,myStringList)"
   ]
  },
  {
   "cell_type": "code",
   "execution_count": 129,
   "id": "d2fc0b3b-5e78-493e-a7bf-d2b06e784fad",
   "metadata": {},
   "outputs": [
    {
     "data": {
      "text/plain": [
       "[False, True, False, False, True]"
      ]
     },
     "execution_count": 129,
     "metadata": {},
     "output_type": "execute_result"
    }
   ],
   "source": [
    "list(map(controlString,myStringList))"
   ]
  },
  {
   "cell_type": "code",
   "execution_count": 131,
   "id": "680251af-4aff-45e4-9828-1c0ebcfb14e7",
   "metadata": {},
   "outputs": [],
   "source": [
    "# \"FILTER\" FONK. NEDİR, NE İŞE YARAR?"
   ]
  },
  {
   "cell_type": "code",
   "execution_count": 133,
   "id": "b41bb192-b0f6-4d60-b826-b8e23a66e1cb",
   "metadata": {},
   "outputs": [
    {
     "data": {
      "text/plain": [
       "<filter at 0x11ff94250>"
      ]
     },
     "execution_count": 133,
     "metadata": {},
     "output_type": "execute_result"
    }
   ],
   "source": [
    "filter(controlString,myStringList)"
   ]
  },
  {
   "cell_type": "code",
   "execution_count": 135,
   "id": "ce8162a4-23aa-4256-911f-2a9527742fcb",
   "metadata": {},
   "outputs": [
    {
     "data": {
      "text/plain": [
       "['emre', 'yusufemreozden']"
      ]
     },
     "execution_count": 135,
     "metadata": {},
     "output_type": "execute_result"
    }
   ],
   "source": [
    "list(filter(controlString,myStringList))"
   ]
  },
  {
   "cell_type": "code",
   "execution_count": 137,
   "id": "90b90be3-a474-49fb-a8c5-128fc01b3fe6",
   "metadata": {},
   "outputs": [],
   "source": [
    "# \"LAMBDA\" FONK. NEDİR, NE İŞE YARAR?"
   ]
  },
  {
   "cell_type": "code",
   "execution_count": 139,
   "id": "6dc94a30-0ea2-4c58-9fa0-a741697400ca",
   "metadata": {},
   "outputs": [],
   "source": [
    "multiplyFunc = lambda num : num * 3"
   ]
  },
  {
   "cell_type": "code",
   "execution_count": 141,
   "id": "c1421797-275e-4612-ad62-c602b067cb84",
   "metadata": {},
   "outputs": [
    {
     "data": {
      "text/plain": [
       "9"
      ]
     },
     "execution_count": 141,
     "metadata": {},
     "output_type": "execute_result"
    }
   ],
   "source": [
    "multiplyFunc(3)"
   ]
  },
  {
   "cell_type": "code",
   "execution_count": 143,
   "id": "984335b8-0de6-4e7a-acf4-d37a527dd629",
   "metadata": {},
   "outputs": [],
   "source": [
    "result = multiplyFunc(90)"
   ]
  },
  {
   "cell_type": "code",
   "execution_count": 145,
   "id": "cb3dd708-9a7b-483a-913b-36e453f1a9a1",
   "metadata": {},
   "outputs": [
    {
     "data": {
      "text/plain": [
       "270"
      ]
     },
     "execution_count": 145,
     "metadata": {},
     "output_type": "execute_result"
    }
   ],
   "source": [
    "result"
   ]
  },
  {
   "cell_type": "code",
   "execution_count": 149,
   "id": "db94629d-753c-4cee-b58a-f99dacc7dc4b",
   "metadata": {},
   "outputs": [],
   "source": [
    "numList = [10,20,30,40,50]"
   ]
  },
  {
   "cell_type": "code",
   "execution_count": 151,
   "id": "507db75e-13d5-4911-af75-e954df60636a",
   "metadata": {},
   "outputs": [
    {
     "data": {
      "text/plain": [
       "[5.0, 10.0, 15.0, 20.0, 25.0]"
      ]
     },
     "execution_count": 151,
     "metadata": {},
     "output_type": "execute_result"
    }
   ],
   "source": [
    "list(map(lambda num:num/2,numList))"
   ]
  },
  {
   "cell_type": "code",
   "execution_count": null,
   "id": "61162e49-8301-4184-8aa4-ebbe8f2c3a4d",
   "metadata": {},
   "outputs": [],
   "source": []
  }
 ],
 "metadata": {
  "kernelspec": {
   "display_name": "Python 3 (ipykernel)",
   "language": "python",
   "name": "python3"
  },
  "language_info": {
   "codemirror_mode": {
    "name": "ipython",
    "version": 3
   },
   "file_extension": ".py",
   "mimetype": "text/x-python",
   "name": "python",
   "nbconvert_exporter": "python",
   "pygments_lexer": "ipython3",
   "version": "3.12.4"
  }
 },
 "nbformat": 4,
 "nbformat_minor": 5
}
