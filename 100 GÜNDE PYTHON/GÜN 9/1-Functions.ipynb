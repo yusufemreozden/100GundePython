{
 "cells": [
  {
   "cell_type": "code",
   "execution_count": 2,
   "id": "cbbec7eb-ec2b-4724-bfcc-ed9631b5f2d4",
   "metadata": {},
   "outputs": [],
   "source": [
    "# METHODS VERSUS FUNCTIONS ?"
   ]
  },
  {
   "cell_type": "code",
   "execution_count": 6,
   "id": "cbe89886-45a2-42fb-8de7-57b60aef23dd",
   "metadata": {},
   "outputs": [],
   "source": [
    "myName = \"emre\""
   ]
  },
  {
   "cell_type": "code",
   "execution_count": 8,
   "id": "09f023bf-098f-4ee2-85ba-7b7ab446ea22",
   "metadata": {},
   "outputs": [
    {
     "data": {
      "text/plain": [
       "'Emre'"
      ]
     },
     "execution_count": 8,
     "metadata": {},
     "output_type": "execute_result"
    }
   ],
   "source": [
    "myName.capitalize()"
   ]
  },
  {
   "cell_type": "code",
   "execution_count": 14,
   "id": "6b2ceecf-fdbf-4dfe-bfd4-8c37eb560f66",
   "metadata": {},
   "outputs": [
    {
     "data": {
      "text/plain": [
       "'EMRE'"
      ]
     },
     "execution_count": 14,
     "metadata": {},
     "output_type": "execute_result"
    }
   ],
   "source": [
    "myName.upper()"
   ]
  },
  {
   "cell_type": "code",
   "execution_count": 16,
   "id": "f86cb63d-107d-4756-9fd6-3fac6f34f608",
   "metadata": {},
   "outputs": [
    {
     "data": {
      "text/plain": [
       "'emre'"
      ]
     },
     "execution_count": 16,
     "metadata": {},
     "output_type": "execute_result"
    }
   ],
   "source": [
    "myName"
   ]
  },
  {
   "cell_type": "code",
   "execution_count": 18,
   "id": "8a6a98d2-136c-4b55-97e1-f4ca4771a34a",
   "metadata": {},
   "outputs": [],
   "source": [
    "myNameUpper = myName.upper()"
   ]
  },
  {
   "cell_type": "code",
   "execution_count": 20,
   "id": "61ab3224-7dfb-47a7-a04c-637c29e92a41",
   "metadata": {},
   "outputs": [
    {
     "data": {
      "text/plain": [
       "'EMRE'"
      ]
     },
     "execution_count": 20,
     "metadata": {},
     "output_type": "execute_result"
    }
   ],
   "source": [
    "myNameUpper"
   ]
  },
  {
   "cell_type": "code",
   "execution_count": 22,
   "id": "6b774666-ca73-4573-b4c9-0ab53313ba4f",
   "metadata": {},
   "outputs": [
    {
     "data": {
      "text/plain": [
       "'emre'"
      ]
     },
     "execution_count": 22,
     "metadata": {},
     "output_type": "execute_result"
    }
   ],
   "source": [
    "myName"
   ]
  },
  {
   "cell_type": "code",
   "execution_count": 24,
   "id": "ad01a487-ae61-419b-bbf3-34d691320048",
   "metadata": {},
   "outputs": [],
   "source": [
    "# FUNCTIONS NEDİR? NASIL TANIMLANIR?"
   ]
  },
  {
   "cell_type": "code",
   "execution_count": 30,
   "id": "054afd42-b783-47c1-a279-2d0f493e6209",
   "metadata": {},
   "outputs": [],
   "source": [
    "def hello_python():\n",
    "    print(\"hello\")\n",
    "    print(\"python\")"
   ]
  },
  {
   "cell_type": "code",
   "execution_count": 32,
   "id": "25deb51f-449c-4f56-ac96-c3d0739d4868",
   "metadata": {},
   "outputs": [
    {
     "name": "stdout",
     "output_type": "stream",
     "text": [
      "hello\n",
      "python\n"
     ]
    }
   ],
   "source": [
    "hello_python()"
   ]
  },
  {
   "cell_type": "code",
   "execution_count": 34,
   "id": "2c273c00-d6b4-4328-9045-d9e0ced2df47",
   "metadata": {},
   "outputs": [],
   "source": [
    "# FUNCTIONS NEDİR? NASIL IMPUT ALIR?"
   ]
  },
  {
   "cell_type": "code",
   "execution_count": 42,
   "id": "5662cb76-7038-4651-ad70-fe2754ebcb9a",
   "metadata": {},
   "outputs": [],
   "source": [
    "def hello_name(name):\n",
    "    print(\"hello\")\n",
    "    print(name)"
   ]
  },
  {
   "cell_type": "code",
   "execution_count": 44,
   "id": "00469057-2778-4e41-9dd2-fedf13a5f7d9",
   "metadata": {},
   "outputs": [
    {
     "name": "stdout",
     "output_type": "stream",
     "text": [
      "hello\n",
      "emre\n"
     ]
    }
   ],
   "source": [
    "hello_name(\"emre\")"
   ]
  },
  {
   "cell_type": "code",
   "execution_count": 46,
   "id": "840f6a6e-7e25-4ab1-8f12-e86a9cf995d9",
   "metadata": {},
   "outputs": [],
   "source": [
    "def sum_example(n1,n2):\n",
    "    print(n1+n2)"
   ]
  },
  {
   "cell_type": "code",
   "execution_count": 48,
   "id": "603ef364-bbb0-4e6c-af16-6ab6c3b3b6a2",
   "metadata": {},
   "outputs": [
    {
     "name": "stdout",
     "output_type": "stream",
     "text": [
      "29\n"
     ]
    }
   ],
   "source": [
    "sum_example(24,5)"
   ]
  },
  {
   "cell_type": "code",
   "execution_count": 50,
   "id": "a0ef4ff7-a62e-49e3-9196-43ead8eb665a",
   "metadata": {},
   "outputs": [],
   "source": [
    "def hello_surname(surname=\"ozden\"):\n",
    "    print(\"hello\")\n",
    "    print(surname)"
   ]
  },
  {
   "cell_type": "code",
   "execution_count": 54,
   "id": "9a12b120-d2b2-4f42-8553-a942df73f6e5",
   "metadata": {},
   "outputs": [
    {
     "name": "stdout",
     "output_type": "stream",
     "text": [
      "hello\n",
      "erdogan\n"
     ]
    }
   ],
   "source": [
    "hello_surname(\"erdogan\")"
   ]
  },
  {
   "cell_type": "code",
   "execution_count": 56,
   "id": "576563d7-7247-42bb-bdc6-85fc23af6f92",
   "metadata": {},
   "outputs": [
    {
     "name": "stdout",
     "output_type": "stream",
     "text": [
      "hello\n",
      "ozden\n"
     ]
    }
   ],
   "source": [
    "hello_surname()"
   ]
  },
  {
   "cell_type": "code",
   "execution_count": 58,
   "id": "be48d280-3b63-4db6-b965-f36d1435681c",
   "metadata": {},
   "outputs": [],
   "source": [
    "# FUNCTIONS NEDİR? NASIL RETURN ALINIR?"
   ]
  },
  {
   "cell_type": "code",
   "execution_count": 19,
   "id": "e38adea1-e6f2-4131-a1e6-99e9a825e1f0",
   "metadata": {},
   "outputs": [],
   "source": [
    "def summation(n1,n2,n3):\n",
    "    print(n1+n2+n3)"
   ]
  },
  {
   "cell_type": "code",
   "execution_count": 21,
   "id": "09b74d1c-97ba-4f70-89f7-aa10668ee51e",
   "metadata": {},
   "outputs": [
    {
     "name": "stdout",
     "output_type": "stream",
     "text": [
      "7\n"
     ]
    }
   ],
   "source": [
    "summation(1,2,4)"
   ]
  },
  {
   "cell_type": "code",
   "execution_count": 23,
   "id": "ef3d3a2f-6241-43ce-8f80-d5906d34e935",
   "metadata": {},
   "outputs": [
    {
     "name": "stdout",
     "output_type": "stream",
     "text": [
      "20\n"
     ]
    }
   ],
   "source": [
    "x = summation(10,2,8) "
   ]
  },
  {
   "cell_type": "code",
   "execution_count": 27,
   "id": "fdfce80c-5bda-4243-9260-721b2df15a13",
   "metadata": {},
   "outputs": [
    {
     "name": "stdout",
     "output_type": "stream",
     "text": [
      "None\n"
     ]
    }
   ],
   "source": [
    "print(x) # x tanımlı değil. çünkü döndürmedi"
   ]
  },
  {
   "cell_type": "code",
   "execution_count": 37,
   "id": "6762203f-f626-42f4-bef2-bb494f8b0355",
   "metadata": {},
   "outputs": [],
   "source": [
    "def summation(n1,n2,n3):\n",
    "    return n1+n2+n3"
   ]
  },
  {
   "cell_type": "code",
   "execution_count": 39,
   "id": "ad1f9121-6294-40d0-8f98-70da9e346f3b",
   "metadata": {},
   "outputs": [],
   "source": [
    "x = summation(10,2,8)"
   ]
  },
  {
   "cell_type": "code",
   "execution_count": 41,
   "id": "ba2b063e-cead-4b0f-9e40-e39f7b3dfb95",
   "metadata": {},
   "outputs": [
    {
     "name": "stdout",
     "output_type": "stream",
     "text": [
      "20\n"
     ]
    }
   ],
   "source": [
    "print(x)"
   ]
  },
  {
   "cell_type": "code",
   "execution_count": 43,
   "id": "1dbcf02a-b35f-4d7a-9244-59f8b22f4cad",
   "metadata": {},
   "outputs": [
    {
     "data": {
      "text/plain": [
       "20"
      ]
     },
     "execution_count": 43,
     "metadata": {},
     "output_type": "execute_result"
    }
   ],
   "source": [
    "x"
   ]
  },
  {
   "cell_type": "code",
   "execution_count": 57,
   "id": "b48f15f5-58b9-426a-b470-b467840abb82",
   "metadata": {},
   "outputs": [],
   "source": [
    "def controlString(s):\n",
    "    if s[0] == \"a\":\n",
    "        print(\"a ile başlayan bir kelime yazdınız!\")\n",
    "    else:\n",
    "        print(\"kelimeniz a ile başlamıyor!\")"
   ]
  },
  {
   "cell_type": "code",
   "execution_count": 59,
   "id": "76ac537a-0e10-4394-af37-5cbc1c1d2ee9",
   "metadata": {},
   "outputs": [
    {
     "name": "stdout",
     "output_type": "stream",
     "text": [
      "a ile başlayan bir kelime yazdınız!\n"
     ]
    }
   ],
   "source": [
    "controlString(\"atlas\")"
   ]
  },
  {
   "cell_type": "code",
   "execution_count": 61,
   "id": "dcf208b3-0ec2-4d30-8804-7aea7cfa4b8c",
   "metadata": {},
   "outputs": [
    {
     "name": "stdout",
     "output_type": "stream",
     "text": [
      "a ile başlayan bir kelime yazdınız!\n"
     ]
    }
   ],
   "source": [
    "controlString(\"atil\")"
   ]
  },
  {
   "cell_type": "code",
   "execution_count": 63,
   "id": "7834596a-80f0-49d1-81ac-4aa10b2ed22b",
   "metadata": {},
   "outputs": [
    {
     "name": "stdout",
     "output_type": "stream",
     "text": [
      "kelimeniz a ile başlamıyor!\n"
     ]
    }
   ],
   "source": [
    "controlString(\"emre\")"
   ]
  },
  {
   "cell_type": "code",
   "execution_count": 65,
   "id": "2cc5b562-0781-4fa2-99da-f5c416a84ca6",
   "metadata": {},
   "outputs": [],
   "source": [
    "# ARGUMENTS AND KEY-WORD ARGUMENTS"
   ]
  },
  {
   "cell_type": "code",
   "execution_count": 67,
   "id": "8665decf-8280-4aaa-91cb-046052ad7690",
   "metadata": {},
   "outputs": [],
   "source": [
    "def arg_sum(*args):\n",
    "    return sum(args)"
   ]
  },
  {
   "cell_type": "code",
   "execution_count": 69,
   "id": "89f98499-fe18-4fe3-af73-e8097982a232",
   "metadata": {},
   "outputs": [
    {
     "data": {
      "text/plain": [
       "210"
      ]
     },
     "execution_count": 69,
     "metadata": {},
     "output_type": "execute_result"
    }
   ],
   "source": [
    "arg_sum(10,20,30,40,50,60)"
   ]
  },
  {
   "cell_type": "code",
   "execution_count": 73,
   "id": "f9a6fea5-f06a-426f-8784-756144159928",
   "metadata": {},
   "outputs": [],
   "source": [
    "def arg_example(*args):\n",
    "    return print(args)"
   ]
  },
  {
   "cell_type": "code",
   "execution_count": 75,
   "id": "d4def679-a7a5-4d67-92b0-5ddefd295567",
   "metadata": {},
   "outputs": [
    {
     "name": "stdout",
     "output_type": "stream",
     "text": [
      "(213, 231142, 53, 467, 768)\n"
     ]
    }
   ],
   "source": [
    "arg_example(213,231142,53,467,768)"
   ]
  },
  {
   "cell_type": "code",
   "execution_count": 79,
   "id": "e5eee0e7-3a48-4049-b6ff-47b3cb7fe8a1",
   "metadata": {},
   "outputs": [],
   "source": [
    "# KWARG?"
   ]
  },
  {
   "cell_type": "code",
   "execution_count": 81,
   "id": "02ca06cd-d724-4244-8af2-a18f624d138a",
   "metadata": {},
   "outputs": [],
   "source": [
    "def kwarg_example(**kwarg):\n",
    "    return print(kwarg)"
   ]
  },
  {
   "cell_type": "code",
   "execution_count": 83,
   "id": "9d2e2ac9-7b18-4e23-bf93-41e5a5553af2",
   "metadata": {},
   "outputs": [
    {
     "name": "stdout",
     "output_type": "stream",
     "text": [
      "{'apple': 100, 'orange': 185, 'banana': 150}\n"
     ]
    }
   ],
   "source": [
    "kwarg_example(apple=100,orange=185,banana=150)"
   ]
  },
  {
   "cell_type": "code",
   "execution_count": 103,
   "id": "2da803ce-8b07-4c72-a1f5-5595d5e30dee",
   "metadata": {},
   "outputs": [],
   "source": [
    "def kwarg_example_2(**kwarg):\n",
    "    if \"apple\" in kwarg:\n",
    "        print(\"appleeeee\")\n",
    "    else:\n",
    "        print(\":(\")"
   ]
  },
  {
   "cell_type": "code",
   "execution_count": 105,
   "id": "1dcd8dc9-8c69-4183-a69d-a5a56ad445a4",
   "metadata": {},
   "outputs": [
    {
     "name": "stdout",
     "output_type": "stream",
     "text": [
      "appleeeee\n"
     ]
    }
   ],
   "source": [
    "kwarg_example_2(apple=100,orange=185,banana=150)\n"
   ]
  },
  {
   "cell_type": "code",
   "execution_count": 111,
   "id": "7a1af61c-21c9-4c33-8439-c7ede5ecc56b",
   "metadata": {},
   "outputs": [
    {
     "name": "stdout",
     "output_type": "stream",
     "text": [
      ":(\n"
     ]
    }
   ],
   "source": [
    "kwarg_example_2(melon=100,orange=185,banana=150)"
   ]
  },
  {
   "cell_type": "code",
   "execution_count": null,
   "id": "ea227cf1-2160-43c5-baa7-58ab8a0c65ba",
   "metadata": {},
   "outputs": [],
   "source": []
  }
 ],
 "metadata": {
  "kernelspec": {
   "display_name": "Python 3 (ipykernel)",
   "language": "python",
   "name": "python3"
  },
  "language_info": {
   "codemirror_mode": {
    "name": "ipython",
    "version": 3
   },
   "file_extension": ".py",
   "mimetype": "text/x-python",
   "name": "python",
   "nbconvert_exporter": "python",
   "pygments_lexer": "ipython3",
   "version": "3.12.4"
  }
 },
 "nbformat": 4,
 "nbformat_minor": 5
}
