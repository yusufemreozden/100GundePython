{
 "cells": [
  {
   "cell_type": "code",
   "execution_count": 1,
   "id": "ed09f613-ae79-42be-b06c-f5efa095424b",
   "metadata": {},
   "outputs": [],
   "source": [
    "myList = [10,20,30,40,50,60,70]"
   ]
  },
  {
   "cell_type": "code",
   "execution_count": 11,
   "id": "a26cb703-9c94-4b4f-a9ed-c0ad07c9e0a3",
   "metadata": {},
   "outputs": [
    {
     "name": "stdout",
     "output_type": "stream",
     "text": [
      "10\n",
      "20\n",
      "30\n",
      "40\n",
      "50\n",
      "60\n",
      "70\n"
     ]
    }
   ],
   "source": [
    "for num in myList:\n",
    "    print(num)"
   ]
  },
  {
   "cell_type": "code",
   "execution_count": 13,
   "id": "fee9d7f0-c47b-4b9a-858a-81bafb785e4b",
   "metadata": {},
   "outputs": [
    {
     "name": "stdout",
     "output_type": "stream",
     "text": [
      "5.0\n",
      "10.0\n",
      "15.0\n",
      "20.0\n",
      "25.0\n",
      "30.0\n",
      "35.0\n"
     ]
    }
   ],
   "source": [
    "for x in myList:\n",
    "    print(x/2)"
   ]
  },
  {
   "cell_type": "code",
   "execution_count": 15,
   "id": "09d5684c-e4e2-437b-90b7-6e69fa5605dd",
   "metadata": {},
   "outputs": [
    {
     "name": "stdout",
     "output_type": "stream",
     "text": [
      "30\n",
      "60\n"
     ]
    }
   ],
   "source": [
    "for x in myList:\n",
    "    if x%6 == 0:\n",
    "        print(x)"
   ]
  },
  {
   "cell_type": "code",
   "execution_count": 19,
   "id": "2cfcb379-d2de-4b97-8e39-856505c21688",
   "metadata": {},
   "outputs": [],
   "source": [
    "number_list = [1,2,3,4,5,6,7,8,9] # listedeki çift sayıları yazdırınız."
   ]
  },
  {
   "cell_type": "code",
   "execution_count": 23,
   "id": "01876445-8dbf-462b-b180-29aca76db0a8",
   "metadata": {},
   "outputs": [
    {
     "name": "stdout",
     "output_type": "stream",
     "text": [
      "2\n",
      "4\n",
      "6\n",
      "8\n"
     ]
    }
   ],
   "source": [
    "for x in number_list:\n",
    "    if x%2==0:\n",
    "        print(x)"
   ]
  },
  {
   "cell_type": "code",
   "execution_count": 25,
   "id": "3d705d61-0472-4bd1-98db-a9222e702b62",
   "metadata": {},
   "outputs": [],
   "source": [
    "my_string = \"yusuf emre ozden\""
   ]
  },
  {
   "cell_type": "code",
   "execution_count": 27,
   "id": "c106d1bf-9004-428e-bffc-7f19b6ed9169",
   "metadata": {},
   "outputs": [
    {
     "name": "stdout",
     "output_type": "stream",
     "text": [
      "y\n",
      "u\n",
      "s\n",
      "u\n",
      "f\n",
      " \n",
      "e\n",
      "m\n",
      "r\n",
      "e\n",
      " \n",
      "o\n",
      "z\n",
      "d\n",
      "e\n",
      "n\n"
     ]
    }
   ],
   "source": [
    "for c in my_string:\n",
    "    print(c)"
   ]
  },
  {
   "cell_type": "code",
   "execution_count": 33,
   "id": "e04ea80f-a0c1-4ea9-8f5a-840d2982856a",
   "metadata": {},
   "outputs": [],
   "source": [
    "my_tuple = {10,20,30,40,50,60,70,70}"
   ]
  },
  {
   "cell_type": "code",
   "execution_count": 35,
   "id": "2a3c7378-777c-43c3-b9e7-f6cffcb8d342",
   "metadata": {},
   "outputs": [
    {
     "name": "stdout",
     "output_type": "stream",
     "text": [
      "50\n",
      "20\n",
      "70\n",
      "40\n",
      "10\n",
      "60\n",
      "30\n"
     ]
    }
   ],
   "source": [
    "for num in my_tuple:\n",
    "    print(num)"
   ]
  },
  {
   "cell_type": "code",
   "execution_count": 37,
   "id": "195da9f7-b30d-46ab-9202-46d6417fba27",
   "metadata": {},
   "outputs": [],
   "source": [
    "myNewList = [(\"a\",\"b\"),(\"c\",\"d\"),(\"e\",\"f\"),(\"g\",\"h\")]"
   ]
  },
  {
   "cell_type": "code",
   "execution_count": 39,
   "id": "48451c55-fe38-4f50-8bcc-a0070f469f5c",
   "metadata": {},
   "outputs": [
    {
     "data": {
      "text/plain": [
       "4"
      ]
     },
     "execution_count": 39,
     "metadata": {},
     "output_type": "execute_result"
    }
   ],
   "source": [
    "len(myNewList)"
   ]
  },
  {
   "cell_type": "code",
   "execution_count": 41,
   "id": "4791ed4d-d472-41f7-852f-a5a9f0c04fb0",
   "metadata": {},
   "outputs": [
    {
     "name": "stdout",
     "output_type": "stream",
     "text": [
      "('a', 'b')\n",
      "('c', 'd')\n",
      "('e', 'f')\n",
      "('g', 'h')\n"
     ]
    }
   ],
   "source": [
    "for element in myNewList:\n",
    "    print(element)"
   ]
  },
  {
   "cell_type": "code",
   "execution_count": 45,
   "id": "608ff4f0-8ec3-4362-bb73-1e77d30ba9de",
   "metadata": {},
   "outputs": [],
   "source": [
    "# TUPLE UNPACKING"
   ]
  },
  {
   "cell_type": "code",
   "execution_count": 47,
   "id": "0aa97b4e-69b0-4229-881d-c1b54fd63240",
   "metadata": {},
   "outputs": [
    {
     "name": "stdout",
     "output_type": "stream",
     "text": [
      "a\n",
      "c\n",
      "e\n",
      "g\n"
     ]
    }
   ],
   "source": [
    "for (x,y) in myNewList:\n",
    "    print(x)"
   ]
  },
  {
   "cell_type": "code",
   "execution_count": 49,
   "id": "8f30265c-2150-4128-bf6f-4e01d55d1ca9",
   "metadata": {},
   "outputs": [
    {
     "name": "stdout",
     "output_type": "stream",
     "text": [
      "b\n",
      "d\n",
      "f\n",
      "h\n"
     ]
    }
   ],
   "source": [
    "for (x,y) in myNewList:\n",
    "    print(y)"
   ]
  },
  {
   "cell_type": "code",
   "execution_count": 51,
   "id": "539e9df9-7d7f-405c-8cf1-19564e92390f",
   "metadata": {},
   "outputs": [],
   "source": [
    "my_set = {1,2,3,4,5}"
   ]
  },
  {
   "cell_type": "code",
   "execution_count": 53,
   "id": "9b74404a-19ce-4367-be61-0f570a0ae261",
   "metadata": {},
   "outputs": [
    {
     "data": {
      "text/plain": [
       "{1, 2, 3, 4, 5}"
      ]
     },
     "execution_count": 53,
     "metadata": {},
     "output_type": "execute_result"
    }
   ],
   "source": [
    "my_set"
   ]
  },
  {
   "cell_type": "code",
   "execution_count": 55,
   "id": "ad0cccdc-d888-4be7-9236-5fd9894a4051",
   "metadata": {},
   "outputs": [
    {
     "data": {
      "text/plain": [
       "5"
      ]
     },
     "execution_count": 55,
     "metadata": {},
     "output_type": "execute_result"
    }
   ],
   "source": [
    "len(my_set)"
   ]
  },
  {
   "cell_type": "code",
   "execution_count": 62,
   "id": "b1e896ac-a022-47c9-8cba-517c869901a0",
   "metadata": {},
   "outputs": [],
   "source": [
    "myDictionary = {\"k1\":\"v1\",\"k2\":\"v2\",\"k3\":\"v3\"}"
   ]
  },
  {
   "cell_type": "code",
   "execution_count": 64,
   "id": "b6fa2726-5e2a-4394-9467-dafa1c905527",
   "metadata": {},
   "outputs": [
    {
     "name": "stdout",
     "output_type": "stream",
     "text": [
      "k1\n",
      "k2\n",
      "k3\n"
     ]
    }
   ],
   "source": [
    "for element in myDictionary:\n",
    "    print(element)"
   ]
  },
  {
   "cell_type": "code",
   "execution_count": 68,
   "id": "c1a4fa83-fdf9-45ac-bf11-30ae1588ad7d",
   "metadata": {},
   "outputs": [
    {
     "name": "stdout",
     "output_type": "stream",
     "text": [
      "v1\n",
      "v2\n",
      "v3\n"
     ]
    }
   ],
   "source": [
    "for value in myDictionary.values():\n",
    "    print(value)"
   ]
  },
  {
   "cell_type": "code",
   "execution_count": 70,
   "id": "774d2dd7-ba56-4b2b-aa3f-369bedd09b2d",
   "metadata": {},
   "outputs": [],
   "source": [
    "# CONTINUE - BREAK - PASS"
   ]
  },
  {
   "cell_type": "code",
   "execution_count": 72,
   "id": "2bda5b7f-44e5-4e54-800d-e426ae38514a",
   "metadata": {},
   "outputs": [],
   "source": [
    "myList = [10,20,30,40,50,60,70] #içerisinde 40 varsa \"mevcut\" yazsın"
   ]
  },
  {
   "cell_type": "code",
   "execution_count": 76,
   "id": "d9fdd824-d6a4-488a-9748-4d4d4faa4608",
   "metadata": {},
   "outputs": [
    {
     "name": "stdout",
     "output_type": "stream",
     "text": [
      "mevcut\n"
     ]
    }
   ],
   "source": [
    "for x in myList:\n",
    "    if x == 40:\n",
    "        print(\"mevcut\")"
   ]
  },
  {
   "cell_type": "code",
   "execution_count": 78,
   "id": "ab26f718-714a-4854-a54c-d7bf6f92d8df",
   "metadata": {},
   "outputs": [],
   "source": [
    "# üstteki kod verimsiz bir kod. NEDEN? çünkü 40'ı bulduktan sonra da devam ediyor döngüye. KANIT:"
   ]
  },
  {
   "cell_type": "code",
   "execution_count": 80,
   "id": "39599741-6abb-49c6-9c13-88e91ea0b29c",
   "metadata": {},
   "outputs": [
    {
     "name": "stdout",
     "output_type": "stream",
     "text": [
      "10\n",
      "20\n",
      "30\n",
      "40\n",
      "mevcut\n",
      "50\n",
      "60\n",
      "70\n"
     ]
    }
   ],
   "source": [
    "for x in myList:\n",
    "    print(x)\n",
    "    if x == 40:\n",
    "        print(\"mevcut\")"
   ]
  },
  {
   "cell_type": "code",
   "execution_count": 82,
   "id": "453e2fc2-0a32-448a-865b-7b976036e287",
   "metadata": {},
   "outputs": [],
   "source": [
    "# 40'ı bulduktan sonra durmasını \"break\" ile sağlayabiliriz."
   ]
  },
  {
   "cell_type": "code",
   "execution_count": 86,
   "id": "4f233200-0a98-4f54-bf46-d97da66e4a45",
   "metadata": {},
   "outputs": [
    {
     "name": "stdout",
     "output_type": "stream",
     "text": [
      "10\n",
      "20\n",
      "30\n",
      "40\n",
      "mevcut\n"
     ]
    }
   ],
   "source": [
    "for x in myList:\n",
    "    print(x)\n",
    "    if x == 40:\n",
    "        print(\"mevcut\")\n",
    "        break"
   ]
  },
  {
   "cell_type": "code",
   "execution_count": null,
   "id": "73ed915c-10e0-426b-9a93-a2d43ef76e29",
   "metadata": {},
   "outputs": [],
   "source": []
  }
 ],
 "metadata": {
  "kernelspec": {
   "display_name": "Python 3 (ipykernel)",
   "language": "python",
   "name": "python3"
  },
  "language_info": {
   "codemirror_mode": {
    "name": "ipython",
    "version": 3
   },
   "file_extension": ".py",
   "mimetype": "text/x-python",
   "name": "python",
   "nbconvert_exporter": "python",
   "pygments_lexer": "ipython3",
   "version": "3.12.4"
  }
 },
 "nbformat": 4,
 "nbformat_minor": 5
}
