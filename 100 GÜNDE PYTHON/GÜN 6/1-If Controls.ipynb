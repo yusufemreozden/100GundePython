{
 "cells": [
  {
   "cell_type": "code",
   "execution_count": 1,
   "id": "e05879ca-522d-4e19-bd8d-1ac7f4be44ec",
   "metadata": {},
   "outputs": [],
   "source": [
    "x = 5\n",
    "y = 2"
   ]
  },
  {
   "cell_type": "code",
   "execution_count": 3,
   "id": "80ef4d1a-3db9-4dd0-adc4-a90f16151757",
   "metadata": {},
   "outputs": [
    {
     "data": {
      "text/plain": [
       "True"
      ]
     },
     "execution_count": 3,
     "metadata": {},
     "output_type": "execute_result"
    }
   ],
   "source": [
    "x>y"
   ]
  },
  {
   "cell_type": "code",
   "execution_count": 5,
   "id": "8756edd9-54a7-476c-a93b-4334f871831a",
   "metadata": {},
   "outputs": [
    {
     "data": {
      "text/plain": [
       "False"
      ]
     },
     "execution_count": 5,
     "metadata": {},
     "output_type": "execute_result"
    }
   ],
   "source": [
    "x<y"
   ]
  },
  {
   "cell_type": "code",
   "execution_count": 9,
   "id": "892949f2-bf1a-47c6-8f29-403c68c058ab",
   "metadata": {},
   "outputs": [],
   "source": [
    "y = 5"
   ]
  },
  {
   "cell_type": "code",
   "execution_count": 13,
   "id": "9d6d40b9-e211-4d9f-882e-6c954a5023ff",
   "metadata": {},
   "outputs": [
    {
     "data": {
      "text/plain": [
       "True"
      ]
     },
     "execution_count": 13,
     "metadata": {},
     "output_type": "execute_result"
    }
   ],
   "source": [
    "x >= y"
   ]
  },
  {
   "cell_type": "code",
   "execution_count": 23,
   "id": "9b97d9eb-ffe2-4edc-b5e3-f32d62d5ac8d",
   "metadata": {},
   "outputs": [],
   "source": [
    "x = 10\n",
    "y = 8"
   ]
  },
  {
   "cell_type": "code",
   "execution_count": 19,
   "id": "12eaef25-d22a-4f41-833c-0ab0d7bbd910",
   "metadata": {},
   "outputs": [
    {
     "data": {
      "text/plain": [
       "False"
      ]
     },
     "execution_count": 19,
     "metadata": {},
     "output_type": "execute_result"
    }
   ],
   "source": [
    "x == y"
   ]
  },
  {
   "cell_type": "code",
   "execution_count": 25,
   "id": "9f3e5a1b-661c-4a5f-923f-1b02c287c914",
   "metadata": {},
   "outputs": [
    {
     "data": {
      "text/plain": [
       "True"
      ]
     },
     "execution_count": 25,
     "metadata": {},
     "output_type": "execute_result"
    }
   ],
   "source": [
    "x != y"
   ]
  },
  {
   "cell_type": "code",
   "execution_count": 27,
   "id": "d78363a0-47e4-4f91-b482-24cd87a8443c",
   "metadata": {},
   "outputs": [
    {
     "data": {
      "text/plain": [
       "True"
      ]
     },
     "execution_count": 27,
     "metadata": {},
     "output_type": "execute_result"
    }
   ],
   "source": [
    "2 < 5 and 1 > 0 "
   ]
  },
  {
   "cell_type": "code",
   "execution_count": 33,
   "id": "b7d9d22a-e14d-4f4c-ba26-29bca3ce411e",
   "metadata": {},
   "outputs": [
    {
     "data": {
      "text/plain": [
       "False"
      ]
     },
     "execution_count": 33,
     "metadata": {},
     "output_type": "execute_result"
    }
   ],
   "source": [
    "2 < 5 and 2 < 0"
   ]
  },
  {
   "cell_type": "code",
   "execution_count": 35,
   "id": "37c4b838-c35d-4e48-acd1-9c00f24cd49c",
   "metadata": {},
   "outputs": [
    {
     "data": {
      "text/plain": [
       "True"
      ]
     },
     "execution_count": 35,
     "metadata": {},
     "output_type": "execute_result"
    }
   ],
   "source": [
    "2 < 5 or 2 < 0 "
   ]
  },
  {
   "cell_type": "code",
   "execution_count": null,
   "id": "a88c20af-93d6-4d66-9732-f6e3fe47e61c",
   "metadata": {},
   "outputs": [],
   "source": []
  },
  {
   "cell_type": "code",
   "execution_count": 38,
   "id": "b94bd452-307e-42c1-b9d9-862b6deeb919",
   "metadata": {},
   "outputs": [],
   "source": [
    "mySuperHero = \"Superman\""
   ]
  },
  {
   "cell_type": "code",
   "execution_count": 40,
   "id": "3474265c-9c2d-4b25-bc6e-cc03b1f996e0",
   "metadata": {},
   "outputs": [
    {
     "data": {
      "text/plain": [
       "False"
      ]
     },
     "execution_count": 40,
     "metadata": {},
     "output_type": "execute_result"
    }
   ],
   "source": [
    "mySuperHero == \"Batman\""
   ]
  },
  {
   "cell_type": "code",
   "execution_count": 42,
   "id": "1195afc7-ed90-4705-bd6c-d6d6469a2517",
   "metadata": {},
   "outputs": [
    {
     "data": {
      "text/plain": [
       "True"
      ]
     },
     "execution_count": 42,
     "metadata": {},
     "output_type": "execute_result"
    }
   ],
   "source": [
    "mySuperHero == \"Superman\""
   ]
  },
  {
   "cell_type": "code",
   "execution_count": 50,
   "id": "1558d9dd-b024-480e-9235-53d645959765",
   "metadata": {},
   "outputs": [
    {
     "name": "stdout",
     "output_type": "stream",
     "text": [
      "Karakteriniz yarasa adam değil!\n"
     ]
    }
   ],
   "source": [
    "if mySuperHero == \"Superman\":\n",
    "    print(\"Karakteriniz yarasa adam değil!\")"
   ]
  },
  {
   "cell_type": "code",
   "execution_count": 80,
   "id": "545efd13-189b-482d-b538-eeef83988e62",
   "metadata": {},
   "outputs": [
    {
     "name": "stdin",
     "output_type": "stream",
     "text": [
      "Lütfen karakterinizi giriniz:  Wonder Woman\n"
     ]
    }
   ],
   "source": [
    "mySuperHero = input(\"Lütfen karakterinizi giriniz: \")"
   ]
  },
  {
   "cell_type": "code",
   "execution_count": 82,
   "id": "b1ead5c3-5916-4f9f-b9ea-dfe8c0d9c67b",
   "metadata": {},
   "outputs": [
    {
     "name": "stdout",
     "output_type": "stream",
     "text": [
      ":(\n"
     ]
    }
   ],
   "source": [
    "if mySuperHero == \"Batman\":\n",
    "    print(\"Karakteriniz yarasa adam!\")\n",
    "elif mySuperHero == \"Superman\":\n",
    "    print(\"Karakteriniz süper bir adam!\")\n",
    "else:\n",
    "    print(\":(\")"
   ]
  },
  {
   "cell_type": "code",
   "execution_count": 122,
   "id": "758ea91d-0e8e-48d6-9d52-13e4531390c5",
   "metadata": {},
   "outputs": [
    {
     "name": "stdin",
     "output_type": "stream",
     "text": [
      "Lütfen yaşınızı giriniz:  36\n"
     ]
    }
   ],
   "source": [
    "(age) = input(\"Lütfen yaşınızı giriniz: \")"
   ]
  },
  {
   "cell_type": "code",
   "execution_count": 124,
   "id": "2a206427-55e2-4bc4-8291-6fb2e7131877",
   "metadata": {},
   "outputs": [
    {
     "name": "stdout",
     "output_type": "stream",
     "text": [
      "Yarra yemişsin dostum!\n"
     ]
    }
   ],
   "source": [
    "age = int(age)\n",
    "if age < 18:\n",
    "    print(\"Çocuk olmak ne güzel şey!\")\n",
    "elif age >= 18 and age <= 35:\n",
    "    print(\"En güzel yaşlarınızdasınız, keyfini çıkarın!\")\n",
    "else:\n",
    "    print(\"Yarra yemişsin dostum!\")"
   ]
  },
  {
   "cell_type": "code",
   "execution_count": null,
   "id": "d581ce8b-8422-4a4e-9c2b-169b4becdc49",
   "metadata": {},
   "outputs": [],
   "source": []
  }
 ],
 "metadata": {
  "kernelspec": {
   "display_name": "Python 3 (ipykernel)",
   "language": "python",
   "name": "python3"
  },
  "language_info": {
   "codemirror_mode": {
    "name": "ipython",
    "version": 3
   },
   "file_extension": ".py",
   "mimetype": "text/x-python",
   "name": "python",
   "nbconvert_exporter": "python",
   "pygments_lexer": "ipython3",
   "version": "3.12.4"
  }
 },
 "nbformat": 4,
 "nbformat_minor": 5
}
