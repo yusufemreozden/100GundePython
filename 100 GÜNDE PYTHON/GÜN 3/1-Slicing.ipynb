{
 "cells": [
  {
   "cell_type": "code",
   "execution_count": 1,
   "id": "f79cd99f-134b-4135-9e5a-aeef977b058b",
   "metadata": {},
   "outputs": [],
   "source": [
    "myString = \"Merhaba Güzel Dünyam!\" "
   ]
  },
  {
   "cell_type": "code",
   "execution_count": 3,
   "id": "8828df6e-64d4-422f-8d2a-5ce97d3f0855",
   "metadata": {},
   "outputs": [
    {
     "data": {
      "text/plain": [
       "'M'"
      ]
     },
     "execution_count": 3,
     "metadata": {},
     "output_type": "execute_result"
    }
   ],
   "source": [
    "myString[0]"
   ]
  },
  {
   "cell_type": "code",
   "execution_count": 5,
   "id": "d2de1c62-5609-4ffc-b475-21254b79698b",
   "metadata": {},
   "outputs": [
    {
     "data": {
      "text/plain": [
       "'l'"
      ]
     },
     "execution_count": 5,
     "metadata": {},
     "output_type": "execute_result"
    }
   ],
   "source": [
    "myString[12]"
   ]
  },
  {
   "cell_type": "code",
   "execution_count": 11,
   "id": "2f8397de-5ecd-4fa2-9607-3eacfe3a9fdc",
   "metadata": {},
   "outputs": [
    {
     "data": {
      "text/plain": [
       "21"
      ]
     },
     "execution_count": 11,
     "metadata": {},
     "output_type": "execute_result"
    }
   ],
   "source": [
    "len(myString)\n"
   ]
  },
  {
   "cell_type": "code",
   "execution_count": 17,
   "id": "b4cddb33-cdff-4879-bd13-b27a5fae812b",
   "metadata": {},
   "outputs": [
    {
     "data": {
      "text/plain": [
       "'!'"
      ]
     },
     "execution_count": 17,
     "metadata": {},
     "output_type": "execute_result"
    }
   ],
   "source": [
    "myString[20]"
   ]
  },
  {
   "cell_type": "code",
   "execution_count": 19,
   "id": "8d9a1a5b-219d-4bbc-8625-c4cba5d4985f",
   "metadata": {},
   "outputs": [
    {
     "data": {
      "text/plain": [
       "'!'"
      ]
     },
     "execution_count": 19,
     "metadata": {},
     "output_type": "execute_result"
    }
   ],
   "source": [
    "myString[-1]"
   ]
  },
  {
   "cell_type": "code",
   "execution_count": 21,
   "id": "a71305cc-d329-4cad-a8de-5ce547dfc0c0",
   "metadata": {},
   "outputs": [
    {
     "data": {
      "text/plain": [
       "'m'"
      ]
     },
     "execution_count": 21,
     "metadata": {},
     "output_type": "execute_result"
    }
   ],
   "source": [
    "myString[-2]"
   ]
  },
  {
   "cell_type": "code",
   "execution_count": null,
   "id": "e5f78096-7b99-4428-ad0c-bf0348bd0aee",
   "metadata": {},
   "outputs": [],
   "source": []
  },
  {
   "cell_type": "code",
   "execution_count": 24,
   "id": "04c9c36d-d13d-4db9-a9f4-25f98c41afc9",
   "metadata": {},
   "outputs": [],
   "source": [
    "barcode = \"MKSNSJX362787980\""
   ]
  },
  {
   "cell_type": "code",
   "execution_count": 26,
   "id": "85d720d2-68c6-4e3a-8d9f-2072e468e20f",
   "metadata": {},
   "outputs": [
    {
     "data": {
      "text/plain": [
       "'M'"
      ]
     },
     "execution_count": 26,
     "metadata": {},
     "output_type": "execute_result"
    }
   ],
   "source": [
    "barcode[0]"
   ]
  },
  {
   "cell_type": "code",
   "execution_count": 28,
   "id": "f5ef18e0-e779-4d6b-a60d-ce88f1c0029b",
   "metadata": {},
   "outputs": [
    {
     "data": {
      "text/plain": [
       "'K'"
      ]
     },
     "execution_count": 28,
     "metadata": {},
     "output_type": "execute_result"
    }
   ],
   "source": [
    "barcode[1]\n"
   ]
  },
  {
   "cell_type": "code",
   "execution_count": 30,
   "id": "e3a7d2d8-a033-48bd-9dad-d787d466caaa",
   "metadata": {},
   "outputs": [
    {
     "data": {
      "text/plain": [
       "'S'"
      ]
     },
     "execution_count": 30,
     "metadata": {},
     "output_type": "execute_result"
    }
   ],
   "source": [
    "barcode[2]"
   ]
  },
  {
   "cell_type": "code",
   "execution_count": 32,
   "id": "1784a14c-36e1-4990-92e4-e932213cbaea",
   "metadata": {},
   "outputs": [
    {
     "data": {
      "text/plain": [
       "'MKS'"
      ]
     },
     "execution_count": 32,
     "metadata": {},
     "output_type": "execute_result"
    }
   ],
   "source": [
    "barcode[0] + barcode[1] + barcode[2]"
   ]
  },
  {
   "cell_type": "code",
   "execution_count": 34,
   "id": "b307c11c-d1a4-4e2e-aa1b-b8dd00ec1cbf",
   "metadata": {},
   "outputs": [],
   "source": [
    "#SLICING (DİLİMLEMEK)\n",
    "\n",
    "#STARTING INDEX, STOPPING INDEX, STEPPING INDEX"
   ]
  },
  {
   "cell_type": "code",
   "execution_count": 36,
   "id": "5f7dcb21-164d-458e-9db8-cfdec0516f84",
   "metadata": {},
   "outputs": [],
   "source": [
    "#barcode[starting:stopping:stepping]"
   ]
  },
  {
   "cell_type": "code",
   "execution_count": 38,
   "id": "00f81249-c254-4cf1-84d7-0537afa96715",
   "metadata": {},
   "outputs": [
    {
     "data": {
      "text/plain": [
       "'MKS'"
      ]
     },
     "execution_count": 38,
     "metadata": {},
     "output_type": "execute_result"
    }
   ],
   "source": [
    "barcode[0:3:1]"
   ]
  },
  {
   "cell_type": "code",
   "execution_count": 40,
   "id": "70ed7b5b-b110-4f4e-af55-cf74f27cd457",
   "metadata": {},
   "outputs": [
    {
     "data": {
      "text/plain": [
       "'MKS'"
      ]
     },
     "execution_count": 40,
     "metadata": {},
     "output_type": "execute_result"
    }
   ],
   "source": [
    "barcode[:3:]"
   ]
  },
  {
   "cell_type": "code",
   "execution_count": 42,
   "id": "8d558c11-9d27-46ff-8d67-15c2586e7d09",
   "metadata": {},
   "outputs": [
    {
     "data": {
      "text/plain": [
       "'NSJX362787980'"
      ]
     },
     "execution_count": 42,
     "metadata": {},
     "output_type": "execute_result"
    }
   ],
   "source": [
    "barcode[3::]"
   ]
  },
  {
   "cell_type": "code",
   "execution_count": 44,
   "id": "e32651c9-2298-48e2-8235-d95fc85e23d3",
   "metadata": {},
   "outputs": [
    {
     "data": {
      "text/plain": [
       "'MSSX6778'"
      ]
     },
     "execution_count": 44,
     "metadata": {},
     "output_type": "execute_result"
    }
   ],
   "source": [
    "barcode[::2]"
   ]
  },
  {
   "cell_type": "code",
   "execution_count": 46,
   "id": "f500d2e1-6819-4154-a101-e279acbc29e8",
   "metadata": {},
   "outputs": [
    {
     "data": {
      "text/plain": [
       "'NS'"
      ]
     },
     "execution_count": 46,
     "metadata": {},
     "output_type": "execute_result"
    }
   ],
   "source": [
    "barcode[3:5:]"
   ]
  },
  {
   "cell_type": "code",
   "execution_count": 48,
   "id": "748e26e6-9524-480c-ab86-af8a70b521a5",
   "metadata": {},
   "outputs": [
    {
     "data": {
      "text/plain": [
       "'089787263XJSNSKM'"
      ]
     },
     "execution_count": 48,
     "metadata": {},
     "output_type": "execute_result"
    }
   ],
   "source": [
    "barcode[::-1]"
   ]
  },
  {
   "cell_type": "code",
   "execution_count": 50,
   "id": "3ab90db9-d868-45f3-8b9a-500d5d2034aa",
   "metadata": {},
   "outputs": [
    {
     "data": {
      "text/plain": [
       "16"
      ]
     },
     "execution_count": 50,
     "metadata": {},
     "output_type": "execute_result"
    }
   ],
   "source": [
    "len(barcode)"
   ]
  },
  {
   "cell_type": "code",
   "execution_count": 54,
   "id": "79f02f92-c6d4-4cb1-bc51-354f3681b875",
   "metadata": {},
   "outputs": [
    {
     "data": {
      "text/plain": [
       "'089787263XJSNSK'"
      ]
     },
     "execution_count": 54,
     "metadata": {},
     "output_type": "execute_result"
    }
   ],
   "source": [
    "barcode[15:0:-1]"
   ]
  },
  {
   "cell_type": "code",
   "execution_count": null,
   "id": "517e85da-fa24-4541-9aa8-d45bfdf31928",
   "metadata": {},
   "outputs": [],
   "source": []
  }
 ],
 "metadata": {
  "kernelspec": {
   "display_name": "Python 3 (ipykernel)",
   "language": "python",
   "name": "python3"
  },
  "language_info": {
   "codemirror_mode": {
    "name": "ipython",
    "version": 3
   },
   "file_extension": ".py",
   "mimetype": "text/x-python",
   "name": "python",
   "nbconvert_exporter": "python",
   "pygments_lexer": "ipython3",
   "version": "3.12.4"
  }
 },
 "nbformat": 4,
 "nbformat_minor": 5
}
