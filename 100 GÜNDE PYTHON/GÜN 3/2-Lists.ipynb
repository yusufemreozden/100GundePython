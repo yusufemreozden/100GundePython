{
 "cells": [
  {
   "cell_type": "code",
   "execution_count": 142,
   "id": "0fd05889-9ee8-4f2d-9324-27ccb3bef5dc",
   "metadata": {},
   "outputs": [],
   "source": [
    "myString = \"yusuf emre özden\""
   ]
  },
  {
   "cell_type": "code",
   "execution_count": 143,
   "id": "a943d1de-490d-4a10-9d26-ed01a44beed5",
   "metadata": {},
   "outputs": [
    {
     "data": {
      "text/plain": [
       "['yusuf', 'emre', 'özden']"
      ]
     },
     "execution_count": 143,
     "metadata": {},
     "output_type": "execute_result"
    }
   ],
   "source": [
    "myString.split()"
   ]
  },
  {
   "cell_type": "code",
   "execution_count": 144,
   "id": "1ccb3ceb-dbd6-451f-91ce-bf1dc9c2d967",
   "metadata": {},
   "outputs": [
    {
     "data": {
      "text/plain": [
       "list"
      ]
     },
     "execution_count": 144,
     "metadata": {},
     "output_type": "execute_result"
    }
   ],
   "source": [
    "type(myString.split())"
   ]
  },
  {
   "cell_type": "code",
   "execution_count": 145,
   "id": "f5d6a6e5-b74b-497d-b109-4eb5bf6a7032",
   "metadata": {},
   "outputs": [],
   "source": [
    "# WHAT IS THE \"LIST\" TYPE ?"
   ]
  },
  {
   "cell_type": "code",
   "execution_count": null,
   "id": "54d81d9f-2bcd-488f-921c-8147d41bc2c1",
   "metadata": {},
   "outputs": [],
   "source": []
  },
  {
   "cell_type": "code",
   "execution_count": 146,
   "id": "f05d9124-e8fa-49b6-a596-293173d03e84",
   "metadata": {},
   "outputs": [],
   "source": [
    "myList = [10,20,30,\"thisisozden\",\"yusuf emre özden\",32261463928]"
   ]
  },
  {
   "cell_type": "code",
   "execution_count": 147,
   "id": "ee41f30b-2de9-4626-a058-abe07686421d",
   "metadata": {},
   "outputs": [
    {
     "data": {
      "text/plain": [
       "[32261463928, 'yusuf emre özden', 'thisisozden', 30, 20, 10]"
      ]
     },
     "execution_count": 147,
     "metadata": {},
     "output_type": "execute_result"
    }
   ],
   "source": [
    "myList[::-1]"
   ]
  },
  {
   "cell_type": "code",
   "execution_count": 148,
   "id": "8cd339d2-1134-42dd-a1e9-e127298f2eec",
   "metadata": {},
   "outputs": [
    {
     "data": {
      "text/plain": [
       "6"
      ]
     },
     "execution_count": 148,
     "metadata": {},
     "output_type": "execute_result"
    }
   ],
   "source": [
    "len(myList)"
   ]
  },
  {
   "cell_type": "code",
   "execution_count": 149,
   "id": "fa720de5-68ee-49d3-ba57-b951fd58b84c",
   "metadata": {},
   "outputs": [
    {
     "data": {
      "text/plain": [
       "'yusuf emre özden'"
      ]
     },
     "execution_count": 149,
     "metadata": {},
     "output_type": "execute_result"
    }
   ],
   "source": [
    "myList[4]"
   ]
  },
  {
   "cell_type": "code",
   "execution_count": 150,
   "id": "8038d442-adf7-4ef7-8c5a-82eac096ddc0",
   "metadata": {},
   "outputs": [],
   "source": [
    "myList[4] = \"emre özden\""
   ]
  },
  {
   "cell_type": "code",
   "execution_count": 151,
   "id": "cca25a43-df20-4fe3-a198-e8c0e39a7621",
   "metadata": {},
   "outputs": [
    {
     "data": {
      "text/plain": [
       "'emre özden'"
      ]
     },
     "execution_count": 151,
     "metadata": {},
     "output_type": "execute_result"
    }
   ],
   "source": [
    "myList[4]"
   ]
  },
  {
   "cell_type": "code",
   "execution_count": 152,
   "id": "45318b8d-4a83-4261-b48e-9408dcbad6b8",
   "metadata": {},
   "outputs": [
    {
     "name": "stdout",
     "output_type": "stream",
     "text": [
      "[10, 20, 30, 'thisisozden', 'emre özden', 32261463928]\n"
     ]
    }
   ],
   "source": [
    "print(myList)"
   ]
  },
  {
   "cell_type": "code",
   "execution_count": 153,
   "id": "2405f015-106f-4f60-81eb-3a58f188cccd",
   "metadata": {},
   "outputs": [],
   "source": [
    "myList.append(\"yusuf özden\") # her türlü sona ekler"
   ]
  },
  {
   "cell_type": "code",
   "execution_count": 154,
   "id": "265b0c03-5cdf-407b-b55e-bb41c5f1d27c",
   "metadata": {},
   "outputs": [
    {
     "name": "stdout",
     "output_type": "stream",
     "text": [
      "[10, 20, 30, 'thisisozden', 'emre özden', 32261463928, 'yusuf özden']\n"
     ]
    }
   ],
   "source": [
    "print(myList)"
   ]
  },
  {
   "cell_type": "code",
   "execution_count": 155,
   "id": "b3e2bc0a-ffe5-4ee7-99d2-98b1737596de",
   "metadata": {},
   "outputs": [
    {
     "data": {
      "text/plain": [
       "1"
      ]
     },
     "execution_count": 155,
     "metadata": {},
     "output_type": "execute_result"
    }
   ],
   "source": [
    "myList.index(20)"
   ]
  },
  {
   "cell_type": "code",
   "execution_count": 156,
   "id": "bcb8ce71-67d4-4dc9-843b-3951ec666d8a",
   "metadata": {},
   "outputs": [],
   "source": [
    "myList.insert(1,31) # birinci indekse 31'i ekle"
   ]
  },
  {
   "cell_type": "code",
   "execution_count": 157,
   "id": "48bd1dce-e553-4e5a-b94e-dd6f1e15e3d5",
   "metadata": {},
   "outputs": [
    {
     "name": "stdout",
     "output_type": "stream",
     "text": [
      "[10, 31, 20, 30, 'thisisozden', 'emre özden', 32261463928, 'yusuf özden']\n"
     ]
    }
   ],
   "source": [
    "print(myList)"
   ]
  },
  {
   "cell_type": "code",
   "execution_count": 158,
   "id": "0151e339-775c-415f-ad2a-1e35982b8857",
   "metadata": {},
   "outputs": [
    {
     "name": "stdin",
     "output_type": "stream",
     "text": [
      "Lütfen yaşınızı giriniz:  22\n"
     ]
    }
   ],
   "source": [
    "x = input(\"Lütfen yaşınızı giriniz: \")"
   ]
  },
  {
   "cell_type": "code",
   "execution_count": 159,
   "id": "8d965415-54d2-4805-8017-c6e0c535e1ff",
   "metadata": {},
   "outputs": [
    {
     "data": {
      "text/plain": [
       "'22'"
      ]
     },
     "execution_count": 159,
     "metadata": {},
     "output_type": "execute_result"
    }
   ],
   "source": [
    "x"
   ]
  },
  {
   "cell_type": "code",
   "execution_count": 160,
   "id": "cd3a7278-33eb-4737-b8fc-2394679e4be2",
   "metadata": {},
   "outputs": [
    {
     "data": {
      "text/plain": [
       "str"
      ]
     },
     "execution_count": 160,
     "metadata": {},
     "output_type": "execute_result"
    }
   ],
   "source": [
    "type(x)"
   ]
  },
  {
   "cell_type": "code",
   "execution_count": 161,
   "id": "f1d4e526-bc4c-4681-9246-1ff41f6d0e77",
   "metadata": {},
   "outputs": [
    {
     "name": "stdin",
     "output_type": "stream",
     "text": [
      "Lütfen adınızı giriniz:  Yusuf Emre\n"
     ]
    }
   ],
   "source": [
    "y = input(\"Lütfen adınızı giriniz: \")"
   ]
  },
  {
   "cell_type": "code",
   "execution_count": 162,
   "id": "15b3c48e-d004-4f43-a645-5a98510a4803",
   "metadata": {},
   "outputs": [
    {
     "name": "stdin",
     "output_type": "stream",
     "text": [
      "Lütfen soyadınızı giriniz:  ÖZDEN\n"
     ]
    }
   ],
   "source": [
    "z = input(\"Lütfen soyadınızı giriniz: \")"
   ]
  },
  {
   "cell_type": "code",
   "execution_count": 163,
   "id": "81461399-1713-4df8-8e14-a384ca58f25b",
   "metadata": {},
   "outputs": [],
   "source": [
    "isimSoyisimYas = [y,z,x]"
   ]
  },
  {
   "cell_type": "code",
   "execution_count": 164,
   "id": "fa3a0ff5-a964-4475-a81e-c53a1b158408",
   "metadata": {},
   "outputs": [
    {
     "data": {
      "text/plain": [
       "['Yusuf Emre', 'ÖZDEN', '22']"
      ]
     },
     "execution_count": 164,
     "metadata": {},
     "output_type": "execute_result"
    }
   ],
   "source": [
    "isimSoyisimYas"
   ]
  },
  {
   "cell_type": "code",
   "execution_count": 198,
   "id": "9f72918a-e418-4370-928d-9ad5d6a2cc43",
   "metadata": {},
   "outputs": [
    {
     "data": {
      "text/plain": [
       "str"
      ]
     },
     "execution_count": 198,
     "metadata": {},
     "output_type": "execute_result"
    }
   ],
   "source": [
    "type(isimSoyisimYas[2])"
   ]
  },
  {
   "cell_type": "code",
   "execution_count": 200,
   "id": "911cc969-b4d8-4ec0-868a-3fbc43e13252",
   "metadata": {},
   "outputs": [
    {
     "data": {
      "text/plain": [
       "int"
      ]
     },
     "execution_count": 200,
     "metadata": {},
     "output_type": "execute_result"
    }
   ],
   "source": [
    "type(int(isimSoyisimYas[2]))"
   ]
  },
  {
   "cell_type": "code",
   "execution_count": 202,
   "id": "c75ce171-b0aa-4faf-9512-6fe4df6a45c8",
   "metadata": {},
   "outputs": [],
   "source": [
    "myNestedList = [10,20,3.14,\"emre\",[1,2,3]]"
   ]
  },
  {
   "cell_type": "code",
   "execution_count": 204,
   "id": "26f1b9ad-bfbc-4e48-af3c-09b06efbf8a2",
   "metadata": {},
   "outputs": [
    {
     "data": {
      "text/plain": [
       "10"
      ]
     },
     "execution_count": 204,
     "metadata": {},
     "output_type": "execute_result"
    }
   ],
   "source": [
    "myNestedList[0]"
   ]
  },
  {
   "cell_type": "code",
   "execution_count": 206,
   "id": "f9aefc2d-c929-4abc-9d95-0111ff1024c8",
   "metadata": {},
   "outputs": [
    {
     "data": {
      "text/plain": [
       "20"
      ]
     },
     "execution_count": 206,
     "metadata": {},
     "output_type": "execute_result"
    }
   ],
   "source": [
    "myNestedList[1]"
   ]
  },
  {
   "cell_type": "code",
   "execution_count": 208,
   "id": "ab2bf4d9-56de-4339-9fe1-12b4b8f75a26",
   "metadata": {},
   "outputs": [
    {
     "data": {
      "text/plain": [
       "3.14"
      ]
     },
     "execution_count": 208,
     "metadata": {},
     "output_type": "execute_result"
    }
   ],
   "source": [
    "myNestedList[2]"
   ]
  },
  {
   "cell_type": "code",
   "execution_count": 210,
   "id": "5f903578-a4ec-459c-ad4f-98682db8dbf2",
   "metadata": {},
   "outputs": [
    {
     "data": {
      "text/plain": [
       "'emre'"
      ]
     },
     "execution_count": 210,
     "metadata": {},
     "output_type": "execute_result"
    }
   ],
   "source": [
    "myNestedList[3]"
   ]
  },
  {
   "cell_type": "code",
   "execution_count": 212,
   "id": "538898f7-0f6c-4fca-8c36-5c64585eeb6d",
   "metadata": {},
   "outputs": [
    {
     "data": {
      "text/plain": [
       "[1, 2, 3]"
      ]
     },
     "execution_count": 212,
     "metadata": {},
     "output_type": "execute_result"
    }
   ],
   "source": [
    "myNestedList[4]"
   ]
  },
  {
   "cell_type": "code",
   "execution_count": 214,
   "id": "e3bb9cfd-a0ba-4cf4-8681-9d066969d24d",
   "metadata": {},
   "outputs": [
    {
     "data": {
      "text/plain": [
       "list"
      ]
     },
     "execution_count": 214,
     "metadata": {},
     "output_type": "execute_result"
    }
   ],
   "source": [
    "type(myNestedList[4])"
   ]
  },
  {
   "cell_type": "code",
   "execution_count": 216,
   "id": "5157ef0b-ed5d-4526-b68a-f1db0435816f",
   "metadata": {},
   "outputs": [],
   "source": [
    "smallList = myNestedList[4]"
   ]
  },
  {
   "cell_type": "code",
   "execution_count": 220,
   "id": "2166e813-8dd8-4540-811e-4622ebccff38",
   "metadata": {},
   "outputs": [
    {
     "data": {
      "text/plain": [
       "2"
      ]
     },
     "execution_count": 220,
     "metadata": {},
     "output_type": "execute_result"
    }
   ],
   "source": [
    "smallList[1]"
   ]
  },
  {
   "cell_type": "code",
   "execution_count": 222,
   "id": "0de12622-571d-4411-87df-f39e84974538",
   "metadata": {},
   "outputs": [
    {
     "data": {
      "text/plain": [
       "2"
      ]
     },
     "execution_count": 222,
     "metadata": {},
     "output_type": "execute_result"
    }
   ],
   "source": [
    "myNestedList[4][1]"
   ]
  },
  {
   "cell_type": "code",
   "execution_count": 224,
   "id": "9ac27f6d-3a22-46a4-9c7c-6e8ddbc1a54b",
   "metadata": {},
   "outputs": [],
   "source": [
    "lastList = [\"a\",\"b\",\"c\",[\"d\",\"e\"],\"f\"]"
   ]
  },
  {
   "cell_type": "code",
   "execution_count": 228,
   "id": "20c259b5-0875-4bf2-9800-f64c472b70d1",
   "metadata": {},
   "outputs": [
    {
     "data": {
      "text/plain": [
       "5"
      ]
     },
     "execution_count": 228,
     "metadata": {},
     "output_type": "execute_result"
    }
   ],
   "source": [
    "len(lastList)"
   ]
  },
  {
   "cell_type": "code",
   "execution_count": 232,
   "id": "c302e3b0-1421-4e0d-bfd7-a0c12f94dc97",
   "metadata": {},
   "outputs": [
    {
     "data": {
      "text/plain": [
       "'d'"
      ]
     },
     "execution_count": 232,
     "metadata": {},
     "output_type": "execute_result"
    }
   ],
   "source": [
    "lastList[3][0]"
   ]
  },
  {
   "cell_type": "code",
   "execution_count": 234,
   "id": "5a44dd4e-7b91-47e0-ac2c-ca30cd05c789",
   "metadata": {},
   "outputs": [],
   "source": [
    "firstList = [10,20,30,40,50,60]"
   ]
  },
  {
   "cell_type": "code",
   "execution_count": 236,
   "id": "05b2e9f8-d1bc-4f6f-87ba-b6c6505fdb30",
   "metadata": {},
   "outputs": [
    {
     "data": {
      "text/plain": [
       "[60, 50, 40, 30, 20, 10]"
      ]
     },
     "execution_count": 236,
     "metadata": {},
     "output_type": "execute_result"
    }
   ],
   "source": [
    "firstList[::-1]"
   ]
  },
  {
   "cell_type": "code",
   "execution_count": 238,
   "id": "34290b03-c246-4a7f-9d68-bb5e8e655aee",
   "metadata": {},
   "outputs": [
    {
     "data": {
      "text/plain": [
       "[20, 30, 40]"
      ]
     },
     "execution_count": 238,
     "metadata": {},
     "output_type": "execute_result"
    }
   ],
   "source": [
    "firstList[1:4:]"
   ]
  }
 ],
 "metadata": {
  "kernelspec": {
   "display_name": "Python 3 (ipykernel)",
   "language": "python",
   "name": "python3"
  },
  "language_info": {
   "codemirror_mode": {
    "name": "ipython",
    "version": 3
   },
   "file_extension": ".py",
   "mimetype": "text/x-python",
   "name": "python",
   "nbconvert_exporter": "python",
   "pygments_lexer": "ipython3",
   "version": "3.12.4"
  }
 },
 "nbformat": 4,
 "nbformat_minor": 5
}
