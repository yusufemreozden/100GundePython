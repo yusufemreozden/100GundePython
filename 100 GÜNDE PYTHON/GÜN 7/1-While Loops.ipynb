{
 "cells": [
  {
   "cell_type": "code",
   "execution_count": 5,
   "id": "a88937f0-35fc-45f1-94f3-6d9084bf1894",
   "metadata": {},
   "outputs": [],
   "source": [
    "list = [10,20,30,40,50]"
   ]
  },
  {
   "cell_type": "code",
   "execution_count": 7,
   "id": "fb9c2322-908b-4ebc-a042-31ac8057dbd3",
   "metadata": {},
   "outputs": [],
   "source": [
    "n = 0"
   ]
  },
  {
   "cell_type": "code",
   "execution_count": 9,
   "id": "3af5518c-dd4f-480c-8366-b35f141e53c9",
   "metadata": {},
   "outputs": [
    {
     "data": {
      "text/plain": [
       "5"
      ]
     },
     "execution_count": 9,
     "metadata": {},
     "output_type": "execute_result"
    }
   ],
   "source": [
    "len(list)"
   ]
  },
  {
   "cell_type": "code",
   "execution_count": 11,
   "id": "f68a0a35-641d-40c5-9ced-b8e89d7b7abb",
   "metadata": {},
   "outputs": [
    {
     "name": "stdout",
     "output_type": "stream",
     "text": [
      "10\n",
      "20\n",
      "30\n",
      "40\n",
      "50\n"
     ]
    }
   ],
   "source": [
    "while n <= 4:\n",
    "    print(list[n])\n",
    "    n = n + 1"
   ]
  },
  {
   "cell_type": "code",
   "execution_count": 17,
   "id": "068d76ba-f43a-4dc0-b77f-ca49cd0a1e2e",
   "metadata": {},
   "outputs": [
    {
     "name": "stdout",
     "output_type": "stream",
     "text": [
      "My list is: list\n"
     ]
    }
   ],
   "source": [
    "print(\"My list is: list\")"
   ]
  },
  {
   "cell_type": "code",
   "execution_count": 21,
   "id": "3b69d438-3754-4f2b-99c4-67f96102637a",
   "metadata": {},
   "outputs": [
    {
     "name": "stdout",
     "output_type": "stream",
     "text": [
      "My list is: [10, 20, 30, 40, 50]\n"
     ]
    }
   ],
   "source": [
    "print(f\"My list is: {list}\")"
   ]
  },
  {
   "cell_type": "code",
   "execution_count": 13,
   "id": "299fe501-01b6-4d15-85a3-a9d735984f40",
   "metadata": {},
   "outputs": [
    {
     "name": "stdin",
     "output_type": "stream",
     "text": [
      "Lütfen kullanıcı adınızı giriniz:  emre\n"
     ]
    }
   ],
   "source": [
    "name = input(\"Lütfen kullanıcı adınızı giriniz: \")"
   ]
  },
  {
   "cell_type": "code",
   "execution_count": 23,
   "id": "4dc8b349-6763-496b-8b93-5017e46813f8",
   "metadata": {},
   "outputs": [
    {
     "name": "stdout",
     "output_type": "stream",
     "text": [
      "Hoşgeldin emre\n"
     ]
    }
   ],
   "source": [
    "print(f\"Hoşgeldin {name}\")"
   ]
  },
  {
   "cell_type": "code",
   "execution_count": 27,
   "id": "6e57bfeb-7611-4167-a777-d14758ae4879",
   "metadata": {},
   "outputs": [
    {
     "name": "stdout",
     "output_type": "stream",
     "text": [
      "Hoşgeldin emre\n"
     ]
    }
   ],
   "source": [
    "print(\"Hoşgeldin\",name)"
   ]
  },
  {
   "cell_type": "code",
   "execution_count": 33,
   "id": "4aa59b14-b0c7-4ad6-8242-21a4fa56a03b",
   "metadata": {},
   "outputs": [
    {
     "name": "stdout",
     "output_type": "stream",
     "text": [
      "p's value is: 0\n",
      "p's value is: 1\n",
      "p's value is: 2\n",
      "p's value is: 3\n",
      "p's value is: 4\n",
      "p's value is: 5\n",
      "p's value is: 6\n",
      "p's value is: 7\n",
      "p's value is: 8\n",
      "p's value is: 9\n",
      "p's value is: 10\n",
      "p's value is: 11\n",
      "p's value is: 12\n",
      "p's value is: 13\n",
      "p's value is: 14\n",
      "p's value is: 15\n",
      "p's value is: 16\n",
      "p's value is: 17\n",
      "p's value is: 18\n",
      "p's value is: 19\n"
     ]
    }
   ],
   "source": [
    "p = 0\n",
    "while p < 20:\n",
    "    print(f\"p's value is: {p}\")\n",
    "    p = p + 1"
   ]
  },
  {
   "cell_type": "code",
   "execution_count": 35,
   "id": "764469ae-4a1e-47d9-a2a7-79d84b189230",
   "metadata": {},
   "outputs": [
    {
     "name": "stdout",
     "output_type": "stream",
     "text": [
      "p's value is: 0\n",
      "p's value is: 1\n",
      "p's value is: 2\n",
      "p's value is: 3\n",
      "p's value is: 4\n",
      "p's value is: 5\n",
      "p's value is: 6\n",
      "p's value is: 7\n",
      "p's value is: 8\n",
      "p's value is: 9\n",
      "p's value is: 10\n",
      "p's value is: 11\n",
      "p's value is: 12\n",
      "p's value is: 13\n",
      "p's value is: 14\n",
      "p's value is: 15\n",
      "p's value is: 16\n",
      "p's value is: 17\n",
      "p's value is: 18\n",
      "p's value is: 19\n"
     ]
    }
   ],
   "source": [
    "p = 0\n",
    "while p < 20:\n",
    "    print(\"p's value is:\",p)\n",
    "    p = p + 1"
   ]
  },
  {
   "cell_type": "code",
   "execution_count": null,
   "id": "d5a33c66-6c35-4a89-9b9e-e9e67296d547",
   "metadata": {},
   "outputs": [],
   "source": []
  }
 ],
 "metadata": {
  "kernelspec": {
   "display_name": "Python 3 (ipykernel)",
   "language": "python",
   "name": "python3"
  },
  "language_info": {
   "codemirror_mode": {
    "name": "ipython",
    "version": 3
   },
   "file_extension": ".py",
   "mimetype": "text/x-python",
   "name": "python",
   "nbconvert_exporter": "python",
   "pygments_lexer": "ipython3",
   "version": "3.12.4"
  }
 },
 "nbformat": 4,
 "nbformat_minor": 5
}
