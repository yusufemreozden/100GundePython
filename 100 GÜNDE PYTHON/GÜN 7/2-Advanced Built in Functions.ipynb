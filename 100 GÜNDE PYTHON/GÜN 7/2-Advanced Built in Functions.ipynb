{
 "cells": [
  {
   "cell_type": "code",
   "execution_count": 2,
   "id": "d8182581-186f-4d55-aa89-c857aa1b659f",
   "metadata": {},
   "outputs": [],
   "source": [
    "myList = [10,20,30,40,50,60,70]"
   ]
  },
  {
   "cell_type": "code",
   "execution_count": 5,
   "id": "d6659b6c-6e1a-4fc9-9848-773b94ed9f6c",
   "metadata": {},
   "outputs": [
    {
     "name": "stdout",
     "output_type": "stream",
     "text": [
      "5.0\n",
      "10.0\n",
      "15.0\n",
      "20.0\n",
      "25.0\n",
      "30.0\n",
      "35.0\n"
     ]
    }
   ],
   "source": [
    "for x in myList:\n",
    "    print(x/2)"
   ]
  },
  {
   "cell_type": "code",
   "execution_count": 7,
   "id": "7a83f49e-0413-4280-96a2-b0b46fb1f15f",
   "metadata": {},
   "outputs": [],
   "source": [
    "# RANGE FUNC."
   ]
  },
  {
   "cell_type": "code",
   "execution_count": 11,
   "id": "2881d2a0-0af6-4e82-a03b-d66b25d617bd",
   "metadata": {},
   "outputs": [
    {
     "data": {
      "text/plain": [
       "range(0, 50)"
      ]
     },
     "execution_count": 11,
     "metadata": {},
     "output_type": "execute_result"
    }
   ],
   "source": [
    "range(0,50)"
   ]
  },
  {
   "cell_type": "code",
   "execution_count": 15,
   "id": "348cac4f-1b4b-4011-bada-f3958927ad9c",
   "metadata": {},
   "outputs": [
    {
     "data": {
      "text/plain": [
       "[0, 1, 2, 3, 4, 5, 6, 7, 8, 9]"
      ]
     },
     "execution_count": 15,
     "metadata": {},
     "output_type": "execute_result"
    }
   ],
   "source": [
    "list(range(10))"
   ]
  },
  {
   "cell_type": "code",
   "execution_count": 23,
   "id": "e6ba26ab-67df-44a8-b553-cbae1d5d6f74",
   "metadata": {},
   "outputs": [
    {
     "name": "stdout",
     "output_type": "stream",
     "text": [
      "0\n",
      "2\n",
      "4\n",
      "6\n",
      "8\n",
      "10\n",
      "12\n",
      "14\n",
      "16\n",
      "18\n"
     ]
    }
   ],
   "source": [
    "for num in range(10):\n",
    "    print(num*2)"
   ]
  },
  {
   "cell_type": "code",
   "execution_count": 27,
   "id": "96482f7e-cfe9-4fd8-ac65-b63811a3e1cc",
   "metadata": {},
   "outputs": [
    {
     "name": "stdout",
     "output_type": "stream",
     "text": [
      "10\n",
      "12\n",
      "14\n",
      "16\n",
      "18\n",
      "20\n",
      "22\n",
      "24\n",
      "26\n",
      "28\n",
      "30\n",
      "32\n",
      "34\n",
      "36\n",
      "38\n",
      "40\n",
      "42\n",
      "44\n",
      "46\n",
      "48\n"
     ]
    }
   ],
   "source": [
    "for num in range(5,25):\n",
    "    print(num*2)"
   ]
  },
  {
   "cell_type": "code",
   "execution_count": 31,
   "id": "c9cc90b9-b2ea-40bd-af16-9ce103013e78",
   "metadata": {},
   "outputs": [
    {
     "name": "stdout",
     "output_type": "stream",
     "text": [
      "[5, 7, 9, 11, 13, 15, 17, 19, 21, 23]\n"
     ]
    }
   ],
   "source": [
    "print(list(range(5,25,2)))"
   ]
  },
  {
   "cell_type": "code",
   "execution_count": 33,
   "id": "c0c7fc82-5be9-45d3-8d6b-0af124bd56c7",
   "metadata": {},
   "outputs": [],
   "source": [
    "myList = [10,20,30,40,50,60,70]"
   ]
  },
  {
   "cell_type": "code",
   "execution_count": 35,
   "id": "bede4036-349b-4eef-91ae-2f6b75bb15a9",
   "metadata": {},
   "outputs": [
    {
     "data": {
      "text/plain": [
       "7"
      ]
     },
     "execution_count": 35,
     "metadata": {},
     "output_type": "execute_result"
    }
   ],
   "source": [
    "len(myList)"
   ]
  },
  {
   "cell_type": "code",
   "execution_count": 37,
   "id": "d9fdca6b-fd11-4a32-b819-4302fb14fb07",
   "metadata": {},
   "outputs": [
    {
     "data": {
      "text/plain": [
       "[0, 1, 2, 3, 4, 5, 6]"
      ]
     },
     "execution_count": 37,
     "metadata": {},
     "output_type": "execute_result"
    }
   ],
   "source": [
    "list(range(7))"
   ]
  },
  {
   "cell_type": "code",
   "execution_count": 39,
   "id": "0b4551f0-46c5-46d5-9347-4ecabaad7742",
   "metadata": {},
   "outputs": [],
   "source": [
    "# ENUMERATE"
   ]
  },
  {
   "cell_type": "code",
   "execution_count": 41,
   "id": "42fa34d8-7517-48ad-bfdd-f8359ba652de",
   "metadata": {},
   "outputs": [
    {
     "name": "stdout",
     "output_type": "stream",
     "text": [
      "(0, 10)\n",
      "(1, 20)\n",
      "(2, 30)\n",
      "(3, 40)\n",
      "(4, 50)\n",
      "(5, 60)\n",
      "(6, 70)\n"
     ]
    }
   ],
   "source": [
    "for element in enumerate(myList):\n",
    "    print(element)"
   ]
  },
  {
   "cell_type": "code",
   "execution_count": 43,
   "id": "06aea949-bac8-49f6-a34a-a716a1a968bc",
   "metadata": {},
   "outputs": [],
   "source": [
    "# RANDOM"
   ]
  },
  {
   "cell_type": "code",
   "execution_count": 47,
   "id": "2d1b6890-ce77-4e9c-871a-50c76f5a88d1",
   "metadata": {},
   "outputs": [],
   "source": [
    "from random import randint"
   ]
  },
  {
   "cell_type": "code",
   "execution_count": 49,
   "id": "b1388794-95fc-4929-8836-54aaacb1ef43",
   "metadata": {},
   "outputs": [
    {
     "data": {
      "text/plain": [
       "71"
      ]
     },
     "execution_count": 49,
     "metadata": {},
     "output_type": "execute_result"
    }
   ],
   "source": [
    "randint(0,100)"
   ]
  },
  {
   "cell_type": "code",
   "execution_count": 51,
   "id": "f57f30aa-a92f-4ad5-9ec0-922d559bd173",
   "metadata": {},
   "outputs": [
    {
     "data": {
      "text/plain": [
       "17"
      ]
     },
     "execution_count": 51,
     "metadata": {},
     "output_type": "execute_result"
    }
   ],
   "source": [
    "randint(0,100)"
   ]
  },
  {
   "cell_type": "code",
   "execution_count": 53,
   "id": "af2ec88b-8a4c-4e92-b467-1e10876bcc5b",
   "metadata": {},
   "outputs": [
    {
     "data": {
      "text/plain": [
       "100"
      ]
     },
     "execution_count": 53,
     "metadata": {},
     "output_type": "execute_result"
    }
   ],
   "source": [
    "randint(0,100)"
   ]
  },
  {
   "cell_type": "code",
   "execution_count": 55,
   "id": "b1106be6-6888-4b7e-87cb-39f57ea3da0b",
   "metadata": {},
   "outputs": [
    {
     "data": {
      "text/plain": [
       "8"
      ]
     },
     "execution_count": 55,
     "metadata": {},
     "output_type": "execute_result"
    }
   ],
   "source": [
    "randint(0,100)"
   ]
  },
  {
   "cell_type": "code",
   "execution_count": 57,
   "id": "fc3d323d-a0c6-4ef3-8447-973b65bc9699",
   "metadata": {},
   "outputs": [
    {
     "data": {
      "text/plain": [
       "37"
      ]
     },
     "execution_count": 57,
     "metadata": {},
     "output_type": "execute_result"
    }
   ],
   "source": [
    "randint(0,100)"
   ]
  },
  {
   "cell_type": "code",
   "execution_count": 59,
   "id": "d2732c16-16f6-40d7-b966-2568fcb01c66",
   "metadata": {},
   "outputs": [],
   "source": [
    "from random import shuffle"
   ]
  },
  {
   "cell_type": "code",
   "execution_count": 61,
   "id": "2536a4a8-37ef-4c0a-b4b1-b022219d1db9",
   "metadata": {},
   "outputs": [
    {
     "data": {
      "text/plain": [
       "[10, 20, 30, 40, 50, 60, 70]"
      ]
     },
     "execution_count": 61,
     "metadata": {},
     "output_type": "execute_result"
    }
   ],
   "source": [
    "myList"
   ]
  },
  {
   "cell_type": "code",
   "execution_count": 63,
   "id": "a76d0b32-517c-4a2d-b35f-1cef615beb03",
   "metadata": {},
   "outputs": [],
   "source": [
    "shuffle(myList)"
   ]
  },
  {
   "cell_type": "code",
   "execution_count": 65,
   "id": "fdf23f51-3171-44b3-b3cd-a92605aa7146",
   "metadata": {},
   "outputs": [
    {
     "data": {
      "text/plain": [
       "[50, 20, 10, 70, 30, 40, 60]"
      ]
     },
     "execution_count": 65,
     "metadata": {},
     "output_type": "execute_result"
    }
   ],
   "source": [
    "myList"
   ]
  },
  {
   "cell_type": "code",
   "execution_count": 67,
   "id": "1ad98b16-c955-4c0c-ad77-9f81ff01f477",
   "metadata": {},
   "outputs": [],
   "source": [
    "# ZIP"
   ]
  },
  {
   "cell_type": "code",
   "execution_count": 69,
   "id": "b137575b-27fb-4682-b352-3e5954aecb52",
   "metadata": {},
   "outputs": [],
   "source": [
    "foodList = [\"apple\",\"banana\",\"orange\"]"
   ]
  },
  {
   "cell_type": "code",
   "execution_count": 71,
   "id": "08cb88d5-4027-4adb-9b9d-0b86abcdf2b9",
   "metadata": {},
   "outputs": [],
   "source": [
    "caloriesList = [100,120,148]"
   ]
  },
  {
   "cell_type": "code",
   "execution_count": 73,
   "id": "4469d0c2-91d1-4897-8e2e-1c24fb107f2f",
   "metadata": {},
   "outputs": [],
   "source": [
    "dayList = [\"sunday\",\"friday\",\"saturday\"]"
   ]
  },
  {
   "cell_type": "code",
   "execution_count": 75,
   "id": "e051143d-6dc1-4754-8af6-dcc6bdcdb3b9",
   "metadata": {},
   "outputs": [],
   "source": [
    "zippedList = zip(foodList,caloriesList,dayList)"
   ]
  },
  {
   "cell_type": "code",
   "execution_count": 77,
   "id": "95d8035e-fdc2-4c74-b5b8-ab5914ef9ac6",
   "metadata": {},
   "outputs": [
    {
     "data": {
      "text/plain": [
       "<zip at 0x1296a2540>"
      ]
     },
     "execution_count": 77,
     "metadata": {},
     "output_type": "execute_result"
    }
   ],
   "source": [
    "zippedList"
   ]
  },
  {
   "cell_type": "code",
   "execution_count": 79,
   "id": "367c057a-8cd3-4645-a520-d94331633b00",
   "metadata": {},
   "outputs": [
    {
     "data": {
      "text/plain": [
       "zip"
      ]
     },
     "execution_count": 79,
     "metadata": {},
     "output_type": "execute_result"
    }
   ],
   "source": [
    "type(zippedList)"
   ]
  },
  {
   "cell_type": "code",
   "execution_count": 81,
   "id": "728056cc-e0cb-44d8-b356-831c1fe825d5",
   "metadata": {},
   "outputs": [
    {
     "data": {
      "text/plain": [
       "[('apple', 100, 'sunday'),\n",
       " ('banana', 120, 'friday'),\n",
       " ('orange', 148, 'saturday')]"
      ]
     },
     "execution_count": 81,
     "metadata": {},
     "output_type": "execute_result"
    }
   ],
   "source": [
    "list(zippedList)"
   ]
  },
  {
   "cell_type": "code",
   "execution_count": 85,
   "id": "785861f9-2acf-45aa-a106-01a4a14e6567",
   "metadata": {},
   "outputs": [],
   "source": [
    "newList = []\n",
    "myString = \"thisisozden\""
   ]
  },
  {
   "cell_type": "code",
   "execution_count": 87,
   "id": "6a9f6577-764a-47d5-b1e6-34a5dd3f846e",
   "metadata": {},
   "outputs": [],
   "source": [
    "for latter in myString:\n",
    "    newList.append(latter)"
   ]
  },
  {
   "cell_type": "code",
   "execution_count": 89,
   "id": "a986f18c-e61f-444c-813f-1bc02dd6dd83",
   "metadata": {},
   "outputs": [
    {
     "data": {
      "text/plain": [
       "['t', 'h', 'i', 's', 'i', 's', 'o', 'z', 'd', 'e', 'n']"
      ]
     },
     "execution_count": 89,
     "metadata": {},
     "output_type": "execute_result"
    }
   ],
   "source": [
    "newList"
   ]
  },
  {
   "cell_type": "code",
   "execution_count": 91,
   "id": "563f4a4e-6a16-44ff-bfa8-6c3398c408d7",
   "metadata": {},
   "outputs": [],
   "source": [
    "# LIST COMPREHENSION"
   ]
  },
  {
   "cell_type": "code",
   "execution_count": 93,
   "id": "6b7c6fa9-5386-47af-917c-e2ec5136df57",
   "metadata": {},
   "outputs": [],
   "source": [
    "newList = [latter for latter in myString]"
   ]
  },
  {
   "cell_type": "code",
   "execution_count": 95,
   "id": "c5d9e32d-f698-414d-9f88-4f2330ccbaa1",
   "metadata": {},
   "outputs": [
    {
     "data": {
      "text/plain": [
       "['t', 'h', 'i', 's', 'i', 's', 'o', 'z', 'd', 'e', 'n']"
      ]
     },
     "execution_count": 95,
     "metadata": {},
     "output_type": "execute_result"
    }
   ],
   "source": [
    "newList"
   ]
  },
  {
   "cell_type": "code",
   "execution_count": 97,
   "id": "2d844412-5346-43e5-806b-2e2e67d3e811",
   "metadata": {},
   "outputs": [],
   "source": [
    "numberList = [10,20,30,40,50,60,70]\n",
    "newNumberList = []"
   ]
  },
  {
   "cell_type": "code",
   "execution_count": 99,
   "id": "c68a5171-0620-415a-9553-1daf8cc686d3",
   "metadata": {},
   "outputs": [
    {
     "data": {
      "text/plain": [
       "[]"
      ]
     },
     "execution_count": 99,
     "metadata": {},
     "output_type": "execute_result"
    }
   ],
   "source": [
    "newNumberList"
   ]
  },
  {
   "cell_type": "code",
   "execution_count": 101,
   "id": "5f57dc97-c395-4da7-8937-28b48cdac841",
   "metadata": {},
   "outputs": [],
   "source": [
    "newNumberList = [number for number in numberList]"
   ]
  },
  {
   "cell_type": "code",
   "execution_count": 103,
   "id": "266b45b0-f725-4b84-ad01-4b378f7eb1c5",
   "metadata": {},
   "outputs": [
    {
     "data": {
      "text/plain": [
       "[10, 20, 30, 40, 50, 60, 70]"
      ]
     },
     "execution_count": 103,
     "metadata": {},
     "output_type": "execute_result"
    }
   ],
   "source": [
    "newNumberList"
   ]
  },
  {
   "cell_type": "code",
   "execution_count": 105,
   "id": "41c52bed-c945-4c96-95b5-72fa811eebe2",
   "metadata": {},
   "outputs": [],
   "source": [
    "newNumberList = [number*2 for number in numberList]"
   ]
  },
  {
   "cell_type": "code",
   "execution_count": 107,
   "id": "f094428e-8870-427e-8c7d-09c5630394b5",
   "metadata": {},
   "outputs": [
    {
     "data": {
      "text/plain": [
       "[20, 40, 60, 80, 100, 120, 140]"
      ]
     },
     "execution_count": 107,
     "metadata": {},
     "output_type": "execute_result"
    }
   ],
   "source": [
    "newNumberList"
   ]
  },
  {
   "cell_type": "code",
   "execution_count": null,
   "id": "34cbc00c-8830-4708-a4a2-01a8ac364414",
   "metadata": {},
   "outputs": [],
   "source": []
  }
 ],
 "metadata": {
  "kernelspec": {
   "display_name": "Python 3 (ipykernel)",
   "language": "python",
   "name": "python3"
  },
  "language_info": {
   "codemirror_mode": {
    "name": "ipython",
    "version": 3
   },
   "file_extension": ".py",
   "mimetype": "text/x-python",
   "name": "python",
   "nbconvert_exporter": "python",
   "pygments_lexer": "ipython3",
   "version": "3.12.4"
  }
 },
 "nbformat": 4,
 "nbformat_minor": 5
}
