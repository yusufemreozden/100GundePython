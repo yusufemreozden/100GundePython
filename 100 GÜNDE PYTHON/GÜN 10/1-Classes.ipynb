{
 "cells": [
  {
   "cell_type": "code",
   "execution_count": 5,
   "id": "f8b082c5-ec6a-4143-bc06-ea84370b5e68",
   "metadata": {},
   "outputs": [],
   "source": [
    "emreName =  \"emre\"\n",
    "emreSurname = \"ozden\"\n",
    "emreAge = \"22\"\n",
    "emreGender = \"male\""
   ]
  },
  {
   "cell_type": "code",
   "execution_count": 3,
   "id": "343a6721-e5a7-4e1d-8f19-03e6ae2009c0",
   "metadata": {},
   "outputs": [],
   "source": [
    "azraName = \"azra\"\n",
    "azraSurname = \"ozden\"\n",
    "azraAge = \"19\"\n",
    "azraGender = \"female\""
   ]
  },
  {
   "cell_type": "code",
   "execution_count": 5,
   "id": "d4f93d96-c13e-4019-858a-d96ffec4778c",
   "metadata": {},
   "outputs": [],
   "source": [
    "class Person():\n",
    "    name =  \"\"\n",
    "    surname = \"\"\n",
    "    age = 0\n",
    "    gender = \"\" "
   ]
  },
  {
   "cell_type": "code",
   "execution_count": 7,
   "id": "0827b145-6a3e-4616-b26b-ae56bcc8ff7a",
   "metadata": {},
   "outputs": [],
   "source": [
    "emre = Person()"
   ]
  },
  {
   "cell_type": "code",
   "execution_count": 9,
   "id": "254a2b07-a098-4adf-a6b2-c3d1544d8d38",
   "metadata": {},
   "outputs": [
    {
     "data": {
      "text/plain": [
       "__main__.Person"
      ]
     },
     "execution_count": 9,
     "metadata": {},
     "output_type": "execute_result"
    }
   ],
   "source": [
    "type(emre)"
   ]
  },
  {
   "cell_type": "code",
   "execution_count": 11,
   "id": "24002ef0-c008-44ec-aa70-4d61729bf59b",
   "metadata": {},
   "outputs": [],
   "source": [
    "emre.age = 22"
   ]
  },
  {
   "cell_type": "code",
   "execution_count": 17,
   "id": "224a34e8-45df-4948-9c03-2d2b9611c0ef",
   "metadata": {},
   "outputs": [],
   "source": [
    "emre.name = \"Emre\""
   ]
  },
  {
   "cell_type": "code",
   "execution_count": 15,
   "id": "468fcc91-3fb6-4628-aded-2d76e6d195a9",
   "metadata": {},
   "outputs": [],
   "source": [
    "emre.surname = \"Ozden\""
   ]
  },
  {
   "cell_type": "code",
   "execution_count": 19,
   "id": "79e3165a-2c1c-4e15-a259-f68cf87e0f37",
   "metadata": {},
   "outputs": [],
   "source": [
    "emre.gender = \"Male\""
   ]
  },
  {
   "cell_type": "code",
   "execution_count": 21,
   "id": "7808e5d7-3bda-426c-a86a-1d4aa2945404",
   "metadata": {},
   "outputs": [
    {
     "name": "stdout",
     "output_type": "stream",
     "text": [
      "Emre Ozden 22 Male\n"
     ]
    }
   ],
   "source": [
    "print(emre.name,emre.surname,emre.age,emre.gender)"
   ]
  },
  {
   "cell_type": "code",
   "execution_count": 23,
   "id": "471f07a2-b668-4de7-a664-45f033ff424e",
   "metadata": {},
   "outputs": [],
   "source": [
    "class Person():\n",
    "    name =  \"\"\n",
    "    surname = \"\"\n",
    "    age = 0\n",
    "    gender = \"\" \n",
    "\n",
    "    def __init__(self):\n",
    "        print(\"init executed\")"
   ]
  },
  {
   "cell_type": "code",
   "execution_count": 25,
   "id": "8632249d-1b0b-4aaa-a44d-358005c15fa8",
   "metadata": {},
   "outputs": [
    {
     "name": "stdout",
     "output_type": "stream",
     "text": [
      "init executed\n"
     ]
    }
   ],
   "source": [
    "emre = Person()"
   ]
  },
  {
   "cell_type": "code",
   "execution_count": 27,
   "id": "6c81bba2-f0cd-4dbb-8208-1f9b0c77ca9a",
   "metadata": {},
   "outputs": [
    {
     "name": "stdout",
     "output_type": "stream",
     "text": [
      "init executed\n"
     ]
    }
   ],
   "source": [
    "azra = Person()"
   ]
  },
  {
   "cell_type": "code",
   "execution_count": 29,
   "id": "0fa5d892-274b-45a7-8ef2-44d116179256",
   "metadata": {},
   "outputs": [
    {
     "data": {
      "text/plain": [
       "__main__.Person"
      ]
     },
     "execution_count": 29,
     "metadata": {},
     "output_type": "execute_result"
    }
   ],
   "source": [
    "type(azra)"
   ]
  },
  {
   "cell_type": "code",
   "execution_count": 31,
   "id": "0aecaa12-18aa-4ba3-8567-94e546b34f46",
   "metadata": {},
   "outputs": [],
   "source": [
    "class Person():\n",
    "    name =  \"\"\n",
    "    surname = \"\"\n",
    "    age = 0\n",
    "    gender = \"\" \n",
    "\n",
    "    def __init__(self,nameImput,surnameImput,ageImput,genderImput):\n",
    "        name = nameImput\n",
    "        surname= surnameImput\n",
    "        age =  ageImput\n",
    "        gender = genderImput"
   ]
  },
  {
   "cell_type": "code",
   "execution_count": 35,
   "id": "5114a081-e83f-47c4-bab2-7f677b2a662b",
   "metadata": {},
   "outputs": [],
   "source": [
    "emre = Person(\"Emre\",\"Ozden\",22,\"Male\")"
   ]
  },
  {
   "cell_type": "code",
   "execution_count": 37,
   "id": "cd28f1a6-2cfb-4fa8-ab8f-d806f28acdad",
   "metadata": {},
   "outputs": [
    {
     "data": {
      "text/plain": [
       "0"
      ]
     },
     "execution_count": 37,
     "metadata": {},
     "output_type": "execute_result"
    }
   ],
   "source": [
    "emre.age"
   ]
  },
  {
   "cell_type": "code",
   "execution_count": 39,
   "id": "5b69ed75-bb49-4f96-9ac5-9d2fe25e5fb3",
   "metadata": {},
   "outputs": [
    {
     "data": {
      "text/plain": [
       "''"
      ]
     },
     "execution_count": 39,
     "metadata": {},
     "output_type": "execute_result"
    }
   ],
   "source": [
    "emre.gender"
   ]
  },
  {
   "cell_type": "code",
   "execution_count": 41,
   "id": "e1440bd4-bb1e-4671-8bcb-20ae05c6a0ed",
   "metadata": {},
   "outputs": [
    {
     "data": {
      "text/plain": [
       "''"
      ]
     },
     "execution_count": 41,
     "metadata": {},
     "output_type": "execute_result"
    }
   ],
   "source": [
    "emre.name"
   ]
  },
  {
   "cell_type": "code",
   "execution_count": 43,
   "id": "622ac7f6-e7ae-41fb-8c1e-1c5117469d6d",
   "metadata": {},
   "outputs": [
    {
     "data": {
      "text/plain": [
       "''"
      ]
     },
     "execution_count": 43,
     "metadata": {},
     "output_type": "execute_result"
    }
   ],
   "source": [
    "emre.surname"
   ]
  },
  {
   "cell_type": "code",
   "execution_count": 45,
   "id": "dfe11360-bebb-4f0b-8b3d-d6857be3cf2a",
   "metadata": {},
   "outputs": [],
   "source": [
    "class Person():\n",
    "    name =  \"\"\n",
    "    surname = \"\"\n",
    "    age = 0\n",
    "    gender = \"\" \n",
    "\n",
    "    def __init__(self,nameImput,surnameImput,ageImput,genderImput):\n",
    "        self.name = nameImput\n",
    "        self.surname= surnameImput\n",
    "        self.age =  ageImput\n",
    "        self.gender = genderImput"
   ]
  },
  {
   "cell_type": "code",
   "execution_count": 47,
   "id": "d3d06df3-9beb-4d9d-8f07-f587f29334ab",
   "metadata": {},
   "outputs": [],
   "source": [
    "emre = Person(\"Emre\",\"Ozden\",22,\"Male\")"
   ]
  },
  {
   "cell_type": "code",
   "execution_count": 49,
   "id": "c3d5cf82-41a9-459c-b479-1fe962723f6c",
   "metadata": {},
   "outputs": [
    {
     "data": {
      "text/plain": [
       "22"
      ]
     },
     "execution_count": 49,
     "metadata": {},
     "output_type": "execute_result"
    }
   ],
   "source": [
    "emre.age"
   ]
  },
  {
   "cell_type": "code",
   "execution_count": 51,
   "id": "12763d54-1a3a-4584-9134-6ec6094e01ea",
   "metadata": {},
   "outputs": [
    {
     "data": {
      "text/plain": [
       "'Emre'"
      ]
     },
     "execution_count": 51,
     "metadata": {},
     "output_type": "execute_result"
    }
   ],
   "source": [
    "emre.name"
   ]
  },
  {
   "cell_type": "code",
   "execution_count": 53,
   "id": "8b26f493-c5a2-4c5b-bbb2-ac2f957a4fec",
   "metadata": {},
   "outputs": [
    {
     "data": {
      "text/plain": [
       "'Ozden'"
      ]
     },
     "execution_count": 53,
     "metadata": {},
     "output_type": "execute_result"
    }
   ],
   "source": [
    "emre.surname"
   ]
  },
  {
   "cell_type": "code",
   "execution_count": 57,
   "id": "32d414c6-d074-4d21-a161-431ab487cab1",
   "metadata": {},
   "outputs": [
    {
     "data": {
      "text/plain": [
       "'Male'"
      ]
     },
     "execution_count": 57,
     "metadata": {},
     "output_type": "execute_result"
    }
   ],
   "source": [
    "emre.gender"
   ]
  },
  {
   "cell_type": "code",
   "execution_count": 31,
   "id": "7e4bb0fb-bc9e-4f35-b816-fc2626c415fb",
   "metadata": {},
   "outputs": [],
   "source": [
    "class Person():\n",
    "    def __init__(self,name,surname,age,gender):\n",
    "        self.name = name\n",
    "        self.surname= surname\n",
    "        self.age =  age\n",
    "        self.gender = gender\n",
    "    def printName(self):\n",
    "        print(self.name)"
   ]
  },
  {
   "cell_type": "code",
   "execution_count": 33,
   "id": "8eb60308-1732-4182-9ca6-e524ae88d63b",
   "metadata": {},
   "outputs": [],
   "source": [
    "azra = Person(\"Azra\",\"Ozden\",19,\"Female\")"
   ]
  },
  {
   "cell_type": "code",
   "execution_count": 35,
   "id": "0bd1a6d8-3ebd-4369-b93b-5cc3fdb8c9f9",
   "metadata": {},
   "outputs": [
    {
     "data": {
      "text/plain": [
       "'Azra'"
      ]
     },
     "execution_count": 35,
     "metadata": {},
     "output_type": "execute_result"
    }
   ],
   "source": [
    "azra.name"
   ]
  },
  {
   "cell_type": "code",
   "execution_count": 39,
   "id": "aecb9c23-14c9-42ab-b967-bf6b9b3bb58f",
   "metadata": {},
   "outputs": [
    {
     "name": "stdout",
     "output_type": "stream",
     "text": [
      "Azra\n"
     ]
    }
   ],
   "source": [
    "azra.printName()"
   ]
  },
  {
   "cell_type": "code",
   "execution_count": 45,
   "id": "d1299d60-5675-4a45-a166-92c5f6f9f820",
   "metadata": {},
   "outputs": [],
   "source": [
    "class Dog():\n",
    "    def __init__(self,age):\n",
    "        self.age = age\n",
    "    def humanAge(self):\n",
    "        return self.age * 7"
   ]
  },
  {
   "cell_type": "code",
   "execution_count": 47,
   "id": "7d882f0e-e161-4f92-ae04-c8bd47e8f678",
   "metadata": {},
   "outputs": [],
   "source": [
    "myDog = Dog(3)"
   ]
  },
  {
   "cell_type": "code",
   "execution_count": 49,
   "id": "14427351-1e5d-41a1-87b3-6aada2113203",
   "metadata": {},
   "outputs": [
    {
     "data": {
      "text/plain": [
       "3"
      ]
     },
     "execution_count": 49,
     "metadata": {},
     "output_type": "execute_result"
    }
   ],
   "source": [
    "myDog.age"
   ]
  },
  {
   "cell_type": "code",
   "execution_count": 53,
   "id": "3de5879a-fe06-464e-baaf-711609aa5ab9",
   "metadata": {},
   "outputs": [
    {
     "data": {
      "text/plain": [
       "21"
      ]
     },
     "execution_count": 53,
     "metadata": {},
     "output_type": "execute_result"
    }
   ],
   "source": [
    "myDog.humanAge()"
   ]
  },
  {
   "cell_type": "code",
   "execution_count": 61,
   "id": "fb8209e6-e01b-4cbd-9b84-f86b169e5f39",
   "metadata": {},
   "outputs": [],
   "source": [
    "class Dog():\n",
    "    def __init__(self,age):\n",
    "        self.age = age\n",
    "        self.dogHumanAge = age * 7"
   ]
  },
  {
   "cell_type": "code",
   "execution_count": 63,
   "id": "b89971b2-81a8-4654-bce9-7c4c2d809b9b",
   "metadata": {},
   "outputs": [],
   "source": [
    "myDog = Dog(3)"
   ]
  },
  {
   "cell_type": "code",
   "execution_count": 65,
   "id": "f70c6075-17e1-4cff-8e4f-2d64ff054ced",
   "metadata": {},
   "outputs": [
    {
     "data": {
      "text/plain": [
       "21"
      ]
     },
     "execution_count": 65,
     "metadata": {},
     "output_type": "execute_result"
    }
   ],
   "source": [
    "myDog.dogHumanAge"
   ]
  },
  {
   "cell_type": "code",
   "execution_count": 67,
   "id": "89084381-9e06-4dfc-b76b-e6e054d51c55",
   "metadata": {},
   "outputs": [
    {
     "data": {
      "text/plain": [
       "3"
      ]
     },
     "execution_count": 67,
     "metadata": {},
     "output_type": "execute_result"
    }
   ],
   "source": [
    "myDog.age"
   ]
  }
 ],
 "metadata": {
  "kernelspec": {
   "display_name": "Python 3 (ipykernel)",
   "language": "python",
   "name": "python3"
  },
  "language_info": {
   "codemirror_mode": {
    "name": "ipython",
    "version": 3
   },
   "file_extension": ".py",
   "mimetype": "text/x-python",
   "name": "python",
   "nbconvert_exporter": "python",
   "pygments_lexer": "ipython3",
   "version": "3.12.4"
  }
 },
 "nbformat": 4,
 "nbformat_minor": 5
}
