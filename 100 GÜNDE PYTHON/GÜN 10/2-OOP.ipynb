{
 "cells": [
  {
   "cell_type": "markdown",
   "id": "1d327e04-9f10-4208-8ed1-514eeb4b5a6b",
   "metadata": {},
   "source": [
    "# INHERITANCE --> Kalıtım Almak"
   ]
  },
  {
   "cell_type": "code",
   "execution_count": 51,
   "id": "36dc28af-30a7-47da-8753-1fb7fd568f7c",
   "metadata": {},
   "outputs": [],
   "source": [
    "class Musicians():\n",
    "    def __init__(self,name):\n",
    "        self.name = name\n",
    "        print(\"Musician class\")\n",
    "    \n",
    "    def test1(self):\n",
    "        print(\"Test1 is successful!\")\n",
    "    \n",
    "    def test2(self):\n",
    "        print(\"Test2 is successful!\")\n",
    "        "
   ]
  },
  {
   "cell_type": "code",
   "execution_count": 53,
   "id": "88bee949-077d-45ca-9593-a632bd751f50",
   "metadata": {},
   "outputs": [
    {
     "name": "stdout",
     "output_type": "stream",
     "text": [
      "Musician class\n"
     ]
    }
   ],
   "source": [
    "Emre = Musicians(\"Emre\")"
   ]
  },
  {
   "cell_type": "code",
   "execution_count": 55,
   "id": "e28ede39-38c9-47b6-9b8e-b1a313178172",
   "metadata": {},
   "outputs": [
    {
     "data": {
      "text/plain": [
       "'Emre'"
      ]
     },
     "execution_count": 55,
     "metadata": {},
     "output_type": "execute_result"
    }
   ],
   "source": [
    "Emre.name"
   ]
  },
  {
   "cell_type": "code",
   "execution_count": 57,
   "id": "fa342b31-201b-4fa3-ba51-fa2dcf16e7a3",
   "metadata": {},
   "outputs": [
    {
     "name": "stdout",
     "output_type": "stream",
     "text": [
      "Test1 is successful!\n"
     ]
    }
   ],
   "source": [
    "Emre.test1()"
   ]
  },
  {
   "cell_type": "code",
   "execution_count": 59,
   "id": "e8b4fdfc-e137-4f21-9f07-849056da1f52",
   "metadata": {},
   "outputs": [
    {
     "name": "stdout",
     "output_type": "stream",
     "text": [
      "Test2 is successful!\n"
     ]
    }
   ],
   "source": [
    "Emre.test2()"
   ]
  },
  {
   "cell_type": "code",
   "execution_count": 86,
   "id": "f922a34d-b302-4798-b538-75eaa957ad5b",
   "metadata": {},
   "outputs": [],
   "source": [
    "class MusicianPlus(Musicians):\n",
    "    \n",
    "    def __init__(self,name):\n",
    "        Musicians.__init__(self,name)\n",
    "        print(\"Musician plus\")\n",
    "    \n",
    "    def test3(self):\n",
    "        print(\"Test3 is successful!\")"
   ]
  },
  {
   "cell_type": "code",
   "execution_count": 88,
   "id": "1bb4cdc9-c814-4e7e-ad7f-243ff11ac6fb",
   "metadata": {},
   "outputs": [
    {
     "name": "stdout",
     "output_type": "stream",
     "text": [
      "Musician class\n",
      "Musician plus\n"
     ]
    }
   ],
   "source": [
    "yusuf  = MusicianPlus(\"Yusuf\")"
   ]
  },
  {
   "cell_type": "code",
   "execution_count": 74,
   "id": "05f69baa-094c-4636-8a4f-846f7895f3c6",
   "metadata": {},
   "outputs": [
    {
     "name": "stdout",
     "output_type": "stream",
     "text": [
      "Test1 is successful!\n"
     ]
    }
   ],
   "source": [
    "yusuf.test1()"
   ]
  },
  {
   "cell_type": "code",
   "execution_count": 84,
   "id": "21d7e176-6908-4f78-a0b0-b55403399ec9",
   "metadata": {},
   "outputs": [
    {
     "name": "stdout",
     "output_type": "stream",
     "text": [
      "Test2 is successful!\n"
     ]
    }
   ],
   "source": [
    "yusuf.test2()"
   ]
  },
  {
   "cell_type": "code",
   "execution_count": 92,
   "id": "abbd3fac-75ee-4d52-bb4f-20f3130a080d",
   "metadata": {},
   "outputs": [
    {
     "name": "stdout",
     "output_type": "stream",
     "text": [
      "Test3 is successful!\n"
     ]
    }
   ],
   "source": [
    "yusuf.test3()"
   ]
  },
  {
   "cell_type": "code",
   "execution_count": 94,
   "id": "3e7601a2-5aa2-4da6-b584-1825dd9e7a01",
   "metadata": {},
   "outputs": [
    {
     "data": {
      "text/plain": [
       "'Yusuf'"
      ]
     },
     "execution_count": 94,
     "metadata": {},
     "output_type": "execute_result"
    }
   ],
   "source": [
    "yusuf.name"
   ]
  },
  {
   "cell_type": "code",
   "execution_count": 96,
   "id": "f3ad28a3-c14a-4cfb-ab84-9f59dc7fee6d",
   "metadata": {},
   "outputs": [],
   "source": [
    "yusuf.name = \"Yusuf OZDEN\""
   ]
  },
  {
   "cell_type": "code",
   "execution_count": 98,
   "id": "fc6e3cb9-1492-4724-9641-2c291ca5b204",
   "metadata": {},
   "outputs": [
    {
     "data": {
      "text/plain": [
       "'Yusuf OZDEN'"
      ]
     },
     "execution_count": 98,
     "metadata": {},
     "output_type": "execute_result"
    }
   ],
   "source": [
    "yusuf.name"
   ]
  },
  {
   "cell_type": "code",
   "execution_count": 100,
   "id": "41e147de-db32-428f-8eb3-9e14353e1d91",
   "metadata": {},
   "outputs": [
    {
     "data": {
      "text/plain": [
       "'Emre'"
      ]
     },
     "execution_count": 100,
     "metadata": {},
     "output_type": "execute_result"
    }
   ],
   "source": [
    "Emre.name"
   ]
  },
  {
   "cell_type": "code",
   "execution_count": 102,
   "id": "0a3cc4ed-2dd0-4d69-9cc4-356846a17255",
   "metadata": {},
   "outputs": [
    {
     "data": {
      "text/plain": [
       "__main__.Musicians"
      ]
     },
     "execution_count": 102,
     "metadata": {},
     "output_type": "execute_result"
    }
   ],
   "source": [
    "type(Emre)"
   ]
  },
  {
   "cell_type": "code",
   "execution_count": 104,
   "id": "ccb401b6-8e59-49b8-a8ae-58e6eb1a385b",
   "metadata": {},
   "outputs": [
    {
     "data": {
      "text/plain": [
       "__main__.MusicianPlus"
      ]
     },
     "execution_count": 104,
     "metadata": {},
     "output_type": "execute_result"
    }
   ],
   "source": [
    "type(yusuf)"
   ]
  },
  {
   "cell_type": "markdown",
   "id": "6269681b-76a8-4514-9a81-eed5e51b98ba",
   "metadata": {},
   "source": [
    "# POLYMORPHISM --> Aynı İsimle Farklı İşlevler Gerçekleştirmek"
   ]
  },
  {
   "cell_type": "code",
   "execution_count": 116,
   "id": "d57511cc-17c4-4a19-9870-c8ab916d6219",
   "metadata": {},
   "outputs": [],
   "source": [
    "class Banana():\n",
    "\n",
    "    def __init__(self,name):\n",
    "        self.name = name\n",
    "\n",
    "    def info(self):\n",
    "        return f\"{self.name} is 100 calories!\"\n",
    "\n",
    "class Apple():\n",
    "\n",
    "    def __init__(self,name):\n",
    "        self.name = name\n",
    "\n",
    "    def info(self):\n",
    "        return f\"{self.name} is 120 calories!\""
   ]
  },
  {
   "cell_type": "code",
   "execution_count": 120,
   "id": "e9dde6e4-46f9-4de5-84a3-fe53490ac450",
   "metadata": {},
   "outputs": [],
   "source": [
    "banana = Banana(\"Yellow Banana\")"
   ]
  },
  {
   "cell_type": "code",
   "execution_count": 128,
   "id": "61532d73-db9f-43e1-905d-8f543ef72416",
   "metadata": {},
   "outputs": [
    {
     "data": {
      "text/plain": [
       "'Yellow Banana'"
      ]
     },
     "execution_count": 128,
     "metadata": {},
     "output_type": "execute_result"
    }
   ],
   "source": [
    "banana.name"
   ]
  },
  {
   "cell_type": "code",
   "execution_count": 130,
   "id": "40e35007-c3b2-4464-a326-42b81dfc4a89",
   "metadata": {},
   "outputs": [
    {
     "data": {
      "text/plain": [
       "'Yellow Banana is 100 calories!'"
      ]
     },
     "execution_count": 130,
     "metadata": {},
     "output_type": "execute_result"
    }
   ],
   "source": [
    "banana.info()"
   ]
  },
  {
   "cell_type": "code",
   "execution_count": 132,
   "id": "c2780e46-9045-496a-9a18-5f7135de754a",
   "metadata": {},
   "outputs": [],
   "source": [
    "apple = Apple(\"Green Apple\")"
   ]
  },
  {
   "cell_type": "code",
   "execution_count": 134,
   "id": "9cee5e01-2314-43c2-b590-a61e29d12c50",
   "metadata": {},
   "outputs": [
    {
     "data": {
      "text/plain": [
       "'Green Apple'"
      ]
     },
     "execution_count": 134,
     "metadata": {},
     "output_type": "execute_result"
    }
   ],
   "source": [
    "apple.name"
   ]
  },
  {
   "cell_type": "code",
   "execution_count": 136,
   "id": "0ade3904-e716-4c18-940f-56bed758ac99",
   "metadata": {},
   "outputs": [
    {
     "data": {
      "text/plain": [
       "'Green Apple is 120 calories!'"
      ]
     },
     "execution_count": 136,
     "metadata": {},
     "output_type": "execute_result"
    }
   ],
   "source": [
    "apple.info()"
   ]
  },
  {
   "cell_type": "code",
   "execution_count": 140,
   "id": "521d4ab1-cc7d-427e-a90e-a32190aba436",
   "metadata": {},
   "outputs": [],
   "source": [
    "frutitList = [banana,apple]"
   ]
  },
  {
   "cell_type": "code",
   "execution_count": 144,
   "id": "8aa27e35-e872-4339-a735-fac818fb0eb5",
   "metadata": {},
   "outputs": [
    {
     "name": "stdout",
     "output_type": "stream",
     "text": [
      "Yellow Banana is 100 calories!\n",
      "Green Apple is 120 calories!\n"
     ]
    }
   ],
   "source": [
    "for fruit in frutitList:\n",
    "    print(fruit.info())"
   ]
  },
  {
   "cell_type": "markdown",
   "id": "f113e4cf-aeb1-477d-bb28-792790a2d228",
   "metadata": {},
   "source": [
    "# ENCAPSULATION --> Hapsetmek"
   ]
  },
  {
   "cell_type": "code",
   "execution_count": 161,
   "id": "50a7424d-db9d-4aeb-95fb-f5664d865bba",
   "metadata": {},
   "outputs": [],
   "source": [
    "class Phone():\n",
    "\n",
    "    def __init__(self,name,price):\n",
    "        self.name = name\n",
    "        self.price = price\n",
    "\n",
    "    def info(self):\n",
    "        print(f\"{self.name}'s price is {self.price}₺!\")"
   ]
  },
  {
   "cell_type": "code",
   "execution_count": 173,
   "id": "c6faf6c9-3174-4102-b0ef-2341d2883bc7",
   "metadata": {},
   "outputs": [],
   "source": [
    "iphone = Phone(\"iPhone 16\",100000)"
   ]
  },
  {
   "cell_type": "code",
   "execution_count": 175,
   "id": "586e6efb-04f4-4283-805e-00c82e4deb99",
   "metadata": {},
   "outputs": [
    {
     "name": "stdout",
     "output_type": "stream",
     "text": [
      "iPhone 16's price is 100000₺!\n"
     ]
    }
   ],
   "source": [
    "iphone.info()"
   ]
  },
  {
   "cell_type": "code",
   "execution_count": 177,
   "id": "8f0843ac-0ce8-4702-8121-a7889497cf30",
   "metadata": {},
   "outputs": [],
   "source": [
    "iphone.price = 120000"
   ]
  },
  {
   "cell_type": "code",
   "execution_count": 179,
   "id": "963c1e7b-14e0-4306-b219-136323886507",
   "metadata": {},
   "outputs": [
    {
     "name": "stdout",
     "output_type": "stream",
     "text": [
      "iPhone 16's price is 120000₺!\n"
     ]
    }
   ],
   "source": [
    "iphone.info()"
   ]
  },
  {
   "cell_type": "code",
   "execution_count": 182,
   "id": "4ac5e3bc-632e-41c2-8222-f22ddadbaa95",
   "metadata": {},
   "outputs": [],
   "source": [
    "# FİYAT DEĞİŞTİ. PEKİ DEĞİŞMEMESİ İÇİN NE YAPABİLİRİM?"
   ]
  },
  {
   "cell_type": "code",
   "execution_count": 184,
   "id": "a8f09f28-466a-4655-a168-89ee09f7c3a1",
   "metadata": {},
   "outputs": [],
   "source": [
    "class Phone():\n",
    "\n",
    "    def __init__(self,name,price):\n",
    "        self.name = name\n",
    "        self.__price = price\n",
    "\n",
    "    def info(self):\n",
    "        print(f\"{self.name}'s price is {self.__price}₺!\")"
   ]
  },
  {
   "cell_type": "code",
   "execution_count": 186,
   "id": "21c34524-c561-4c17-98e9-1962ce91cac7",
   "metadata": {},
   "outputs": [],
   "source": [
    "iphone = Phone(\"iPhone 16\",100000)"
   ]
  },
  {
   "cell_type": "code",
   "execution_count": 188,
   "id": "471fc042-5e9b-4f88-ae0c-c1bc07e1573d",
   "metadata": {},
   "outputs": [
    {
     "name": "stdout",
     "output_type": "stream",
     "text": [
      "iPhone 16's price is 100000₺!\n"
     ]
    }
   ],
   "source": [
    "iphone.info()"
   ]
  },
  {
   "cell_type": "code",
   "execution_count": 194,
   "id": "e7e8df75-658b-4740-ba1f-664aac66e218",
   "metadata": {},
   "outputs": [],
   "source": [
    "iphone.price = 120000 #BUNA GÖRE FİYAT 120.000 OLMALIDIR"
   ]
  },
  {
   "cell_type": "code",
   "execution_count": 196,
   "id": "5877336b-1b72-499a-a449-7b6c295df184",
   "metadata": {},
   "outputs": [
    {
     "name": "stdout",
     "output_type": "stream",
     "text": [
      "iPhone 16's price is 100000₺!\n"
     ]
    }
   ],
   "source": [
    "iphone.info()"
   ]
  },
  {
   "cell_type": "markdown",
   "id": "22633bac-96c6-40e8-9503-e0da2ca054de",
   "metadata": {},
   "source": [
    "# ABSTRACTION --> Soyutlama"
   ]
  },
  {
   "cell_type": "code",
   "execution_count": 199,
   "id": "c415a083-e10a-4422-b9ba-ca065c412ca0",
   "metadata": {},
   "outputs": [],
   "source": [
    "from abc import ABC, abstractmethod"
   ]
  },
  {
   "cell_type": "code",
   "execution_count": 201,
   "id": "da24b0f5-6f12-46c3-bee9-8d49267c9719",
   "metadata": {},
   "outputs": [],
   "source": [
    "class Car(ABC):\n",
    "\n",
    "    @abstractmethod\n",
    "    def maxSpeed():\n",
    "        pass"
   ]
  },
  {
   "cell_type": "code",
   "execution_count": 203,
   "id": "3bfab5c7-1cce-4dc0-bfd1-244e65543cf8",
   "metadata": {},
   "outputs": [],
   "source": [
    "class Tesla(Car):\n",
    "    \n",
    "    def maxSpeed(self):\n",
    "        print(\"200km\")"
   ]
  },
  {
   "cell_type": "code",
   "execution_count": 209,
   "id": "4b41bbb6-a496-43ac-a5a0-5c889b68cce1",
   "metadata": {},
   "outputs": [],
   "source": [
    "tesla = Tesla()"
   ]
  },
  {
   "cell_type": "code",
   "execution_count": 211,
   "id": "5b2fd624-8d0e-4201-a377-149bcbdc9644",
   "metadata": {},
   "outputs": [
    {
     "name": "stdout",
     "output_type": "stream",
     "text": [
      "200km\n"
     ]
    }
   ],
   "source": [
    "tesla.maxSpeed()"
   ]
  },
  {
   "cell_type": "code",
   "execution_count": 213,
   "id": "1e15b11d-8150-4fc6-ba31-3db9962f3b17",
   "metadata": {},
   "outputs": [],
   "source": [
    "class Mercedes(Car):\n",
    "    \n",
    "    def maxSpeed(self):\n",
    "        print(\"250km\")"
   ]
  },
  {
   "cell_type": "code",
   "execution_count": 224,
   "id": "e4613f12-4885-41d5-aab3-0ddd1ef53010",
   "metadata": {},
   "outputs": [],
   "source": [
    "mercedes = Mercedes()"
   ]
  },
  {
   "cell_type": "code",
   "execution_count": 228,
   "id": "2afb4146-84e8-42b2-a665-847ae4d95e70",
   "metadata": {},
   "outputs": [
    {
     "name": "stdout",
     "output_type": "stream",
     "text": [
      "250km\n"
     ]
    }
   ],
   "source": [
    "mercedes.maxSpeed()"
   ]
  },
  {
   "cell_type": "markdown",
   "id": "0cea8d01-afa7-4a01-a9de-acdd3c520dbe",
   "metadata": {},
   "source": [
    "# SPECIAL METHODS"
   ]
  },
  {
   "cell_type": "code",
   "execution_count": 259,
   "id": "1430cc94-cf63-403a-aba1-c615a174511f",
   "metadata": {},
   "outputs": [],
   "source": [
    "class Fruit():\n",
    "\n",
    "    def __init__(self,name,calories):\n",
    "        self.name = name\n",
    "        self.calories = calories"
   ]
  },
  {
   "cell_type": "code",
   "execution_count": 275,
   "id": "47aa8021-3041-4726-96a7-467a7683f4c2",
   "metadata": {},
   "outputs": [],
   "source": [
    "myFruit = Fruit(\"banana\",100)"
   ]
  },
  {
   "cell_type": "code",
   "execution_count": 263,
   "id": "fb8a793b-ba8c-4be7-b5df-0e4b1610bc0a",
   "metadata": {},
   "outputs": [
    {
     "data": {
      "text/plain": [
       "100"
      ]
     },
     "execution_count": 263,
     "metadata": {},
     "output_type": "execute_result"
    }
   ],
   "source": [
    "myFruit.calories"
   ]
  },
  {
   "cell_type": "code",
   "execution_count": 265,
   "id": "8ecc4868-9bdf-4896-978f-6765b3eec4dd",
   "metadata": {},
   "outputs": [
    {
     "name": "stdout",
     "output_type": "stream",
     "text": [
      "<__main__.Fruit object at 0x127cf3890>\n"
     ]
    }
   ],
   "source": [
    "print(myFruit)"
   ]
  },
  {
   "cell_type": "code",
   "execution_count": 277,
   "id": "8af8b4f2-06fe-4a8c-8814-5550f62b7439",
   "metadata": {},
   "outputs": [],
   "source": [
    "class Fruit():\n",
    "    \n",
    "    def __init__(self,name,calories):\n",
    "        self.name = name\n",
    "        self.calories = calories\n",
    "    \n",
    "    def __str__(self):\n",
    "        return f\"{self.name}: {self.calories} calories\"\n",
    "    \n",
    "    def __len__(self):\n",
    "        return self.calories"
   ]
  },
  {
   "cell_type": "code",
   "execution_count": 279,
   "id": "89db027f-b6d9-4904-8718-66e74b3ed1cc",
   "metadata": {},
   "outputs": [
    {
     "name": "stdout",
     "output_type": "stream",
     "text": [
      "banana: 100 calories\n"
     ]
    }
   ],
   "source": [
    "print(myFruit)"
   ]
  },
  {
   "cell_type": "code",
   "execution_count": 281,
   "id": "3c779aa3-b077-4a03-986e-329f1dcea648",
   "metadata": {},
   "outputs": [],
   "source": [
    "class Train():\n",
    "    \n",
    "    def __init__(self,name):\n",
    "        self.name = name\n",
    "        \n",
    "    def __getitem__(self,key):\n",
    "        if key == \"a\":\n",
    "            return self.name\n",
    "        else:\n",
    "            return \"Not found\""
   ]
  },
  {
   "cell_type": "code",
   "execution_count": 283,
   "id": "f566f1c4-4291-484b-9b02-de51a755a4b7",
   "metadata": {},
   "outputs": [],
   "source": [
    "myTrain = Train(\"myTrain\")"
   ]
  },
  {
   "cell_type": "code",
   "execution_count": 285,
   "id": "476019ac-5a95-480d-92fb-adc1b41efe79",
   "metadata": {},
   "outputs": [
    {
     "data": {
      "text/plain": [
       "'myTrain'"
      ]
     },
     "execution_count": 285,
     "metadata": {},
     "output_type": "execute_result"
    }
   ],
   "source": [
    "myTrain[\"a\"]"
   ]
  },
  {
   "cell_type": "code",
   "execution_count": 287,
   "id": "a877e9fb-a478-4aed-b95e-dbf8fb6c112c",
   "metadata": {},
   "outputs": [
    {
     "data": {
      "text/plain": [
       "'Not found'"
      ]
     },
     "execution_count": 287,
     "metadata": {},
     "output_type": "execute_result"
    }
   ],
   "source": [
    "myTrain[\"b\"]"
   ]
  },
  {
   "cell_type": "code",
   "execution_count": null,
   "id": "5b4af819-2cb2-4328-82ac-926ca0d14556",
   "metadata": {},
   "outputs": [],
   "source": []
  }
 ],
 "metadata": {
  "kernelspec": {
   "display_name": "Python 3 (ipykernel)",
   "language": "python",
   "name": "python3"
  },
  "language_info": {
   "codemirror_mode": {
    "name": "ipython",
    "version": 3
   },
   "file_extension": ".py",
   "mimetype": "text/x-python",
   "name": "python",
   "nbconvert_exporter": "python",
   "pygments_lexer": "ipython3",
   "version": "3.12.4"
  }
 },
 "nbformat": 4,
 "nbformat_minor": 5
}
