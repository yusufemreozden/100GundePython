{
 "cells": [
  {
   "cell_type": "code",
   "execution_count": 77,
   "id": "6d3603d5-93a6-4633-bca1-756aed942109",
   "metadata": {},
   "outputs": [],
   "source": [
    "myList = [10,20,30,10,40,20,10,30]"
   ]
  },
  {
   "cell_type": "code",
   "execution_count": 78,
   "id": "6e11c2a0-b512-427a-a89c-f79c6024fc94",
   "metadata": {},
   "outputs": [
    {
     "data": {
      "text/plain": [
       "8"
      ]
     },
     "execution_count": 78,
     "metadata": {},
     "output_type": "execute_result"
    }
   ],
   "source": [
    "len(myList)"
   ]
  },
  {
   "cell_type": "code",
   "execution_count": 79,
   "id": "5ff758ab-066a-4095-9000-88359aad0f47",
   "metadata": {},
   "outputs": [],
   "source": [
    "mySet = set(myList)"
   ]
  },
  {
   "cell_type": "code",
   "execution_count": 80,
   "id": "f672730d-8670-43b4-a04c-444f8c90b619",
   "metadata": {},
   "outputs": [
    {
     "data": {
      "text/plain": [
       "{10, 20, 30, 40}"
      ]
     },
     "execution_count": 80,
     "metadata": {},
     "output_type": "execute_result"
    }
   ],
   "source": [
    "mySet"
   ]
  },
  {
   "cell_type": "code",
   "execution_count": 81,
   "id": "2977cbc9-0966-4584-bae9-59e35e0eb8ca",
   "metadata": {},
   "outputs": [],
   "source": [
    "mySet = {10,20,30,10,40,20,10,30}"
   ]
  },
  {
   "cell_type": "code",
   "execution_count": 82,
   "id": "6e8392e4-ed80-4453-9b2b-111f92d5f73c",
   "metadata": {},
   "outputs": [
    {
     "data": {
      "text/plain": [
       "{10, 20, 30, 40}"
      ]
     },
     "execution_count": 82,
     "metadata": {},
     "output_type": "execute_result"
    }
   ],
   "source": [
    "mySet"
   ]
  },
  {
   "cell_type": "code",
   "execution_count": 83,
   "id": "f7ae058d-a673-4394-bb56-c4f77bcc0a9b",
   "metadata": {},
   "outputs": [],
   "source": [
    "mySet.add(10)"
   ]
  },
  {
   "cell_type": "code",
   "execution_count": 84,
   "id": "f96c38fb-7a6c-4244-8667-963397044482",
   "metadata": {},
   "outputs": [
    {
     "data": {
      "text/plain": [
       "{10, 20, 30, 40}"
      ]
     },
     "execution_count": 84,
     "metadata": {},
     "output_type": "execute_result"
    }
   ],
   "source": [
    "mySet"
   ]
  },
  {
   "cell_type": "code",
   "execution_count": 85,
   "id": "72f4f99f-91f0-4ca4-80fd-5b413538f0f6",
   "metadata": {},
   "outputs": [],
   "source": [
    "mySet.add(50)"
   ]
  },
  {
   "cell_type": "code",
   "execution_count": 86,
   "id": "e24cda2f-b964-4c75-8dd0-89ef4f8b94ea",
   "metadata": {},
   "outputs": [
    {
     "data": {
      "text/plain": [
       "{10, 20, 30, 40, 50}"
      ]
     },
     "execution_count": 86,
     "metadata": {},
     "output_type": "execute_result"
    }
   ],
   "source": [
    "mySet"
   ]
  },
  {
   "cell_type": "code",
   "execution_count": 87,
   "id": "cb5773c9-8718-42fb-861e-36d79e0f6d2a",
   "metadata": {},
   "outputs": [],
   "source": [
    "mySet2 = {30,40,50,60,70}"
   ]
  },
  {
   "cell_type": "code",
   "execution_count": 88,
   "id": "9a41bb3e-8af7-4a2c-a445-d29e5b86f61f",
   "metadata": {},
   "outputs": [
    {
     "data": {
      "text/plain": [
       "{30, 40, 50, 60, 70}"
      ]
     },
     "execution_count": 88,
     "metadata": {},
     "output_type": "execute_result"
    }
   ],
   "source": [
    "mySet2"
   ]
  },
  {
   "cell_type": "code",
   "execution_count": 89,
   "id": "35165f4f-1a05-4b90-bd59-f417ec48234f",
   "metadata": {},
   "outputs": [
    {
     "data": {
      "text/plain": [
       "{10, 20, 30, 40, 50, 60, 70}"
      ]
     },
     "execution_count": 89,
     "metadata": {},
     "output_type": "execute_result"
    }
   ],
   "source": [
    "mySet.union(mySet2)"
   ]
  },
  {
   "cell_type": "code",
   "execution_count": 90,
   "id": "cb40f80a-60e1-4848-9226-2bbf884d85dd",
   "metadata": {},
   "outputs": [
    {
     "data": {
      "text/plain": [
       "{30, 40, 50}"
      ]
     },
     "execution_count": 90,
     "metadata": {},
     "output_type": "execute_result"
    }
   ],
   "source": [
    "mySet.intersection(mySet2)"
   ]
  },
  {
   "cell_type": "code",
   "execution_count": 91,
   "id": "cc41c726-6788-44d6-9637-23bf9845d788",
   "metadata": {},
   "outputs": [],
   "source": [
    "countryList = [\"tr\",\"fr\",\"tr\",\"tr\",\"de\",\"nl\",\"tr\",\"fr\",\"eng\", \"tr\"]"
   ]
  },
  {
   "cell_type": "code",
   "execution_count": 92,
   "id": "35edebd3-adb6-4414-a4f6-9b2e550b5da6",
   "metadata": {},
   "outputs": [
    {
     "data": {
      "text/plain": [
       "10"
      ]
     },
     "execution_count": 92,
     "metadata": {},
     "output_type": "execute_result"
    }
   ],
   "source": [
    "len(countryList) # toplam satış sayım"
   ]
  },
  {
   "cell_type": "code",
   "execution_count": 93,
   "id": "7a25e488-5f12-4a99-9f21-c27eaeac474a",
   "metadata": {},
   "outputs": [],
   "source": [
    "# PEKİ BEN KAÇ FARKLI ÜLKEYE SATIŞ YAPTIM?"
   ]
  },
  {
   "cell_type": "code",
   "execution_count": 94,
   "id": "e5b5393f-f711-4df3-8710-4e9a84150916",
   "metadata": {},
   "outputs": [
    {
     "data": {
      "text/plain": [
       "5"
      ]
     },
     "execution_count": 94,
     "metadata": {},
     "output_type": "execute_result"
    }
   ],
   "source": [
    "len(set(countryList))"
   ]
  },
  {
   "cell_type": "code",
   "execution_count": 95,
   "id": "0fc1763d-bc1a-4042-9490-b3ddee3e4350",
   "metadata": {},
   "outputs": [],
   "source": [
    "# PEKİ BU 5 FARKLI ÜLKE HANGİLERİ?"
   ]
  },
  {
   "cell_type": "code",
   "execution_count": 96,
   "id": "b00d6a4e-3ecc-417d-b9ff-56b914b92249",
   "metadata": {},
   "outputs": [
    {
     "data": {
      "text/plain": [
       "{'de', 'eng', 'fr', 'nl', 'tr'}"
      ]
     },
     "execution_count": 96,
     "metadata": {},
     "output_type": "execute_result"
    }
   ],
   "source": [
    "set(countryList)"
   ]
  },
  {
   "cell_type": "code",
   "execution_count": 64,
   "id": "e7d80463-4cd3-4fde-9ec4-db544420c6cd",
   "metadata": {},
   "outputs": [],
   "source": [
    "emptyList = list()"
   ]
  },
  {
   "cell_type": "code",
   "execution_count": 66,
   "id": "ab973961-5334-4779-be3a-0c5f122ffc97",
   "metadata": {},
   "outputs": [
    {
     "data": {
      "text/plain": [
       "[]"
      ]
     },
     "execution_count": 66,
     "metadata": {},
     "output_type": "execute_result"
    }
   ],
   "source": [
    "emptyList"
   ]
  },
  {
   "cell_type": "code",
   "execution_count": 68,
   "id": "53b22a08-9874-41ca-837f-bce2c5439c17",
   "metadata": {},
   "outputs": [],
   "source": [
    "emptyList.append(10)"
   ]
  },
  {
   "cell_type": "code",
   "execution_count": 70,
   "id": "978b94ec-911a-4c16-93ee-39ba31e1bf6b",
   "metadata": {},
   "outputs": [
    {
     "data": {
      "text/plain": [
       "[10]"
      ]
     },
     "execution_count": 70,
     "metadata": {},
     "output_type": "execute_result"
    }
   ],
   "source": [
    "emptyList"
   ]
  },
  {
   "cell_type": "code",
   "execution_count": 72,
   "id": "67f29149-8f55-4393-be3e-f01e758e6c71",
   "metadata": {},
   "outputs": [],
   "source": [
    "emptyList.append(20)\n",
    "emptyList.append(30)"
   ]
  },
  {
   "cell_type": "code",
   "execution_count": 74,
   "id": "0866f7d2-cd0a-4b30-aa7b-5f1395ff4af8",
   "metadata": {},
   "outputs": [
    {
     "data": {
      "text/plain": [
       "[10, 20, 30]"
      ]
     },
     "execution_count": 74,
     "metadata": {},
     "output_type": "execute_result"
    }
   ],
   "source": [
    "emptyList"
   ]
  },
  {
   "cell_type": "code",
   "execution_count": 117,
   "id": "fcf5bfbc-bced-4008-b42a-e9519a3fbc53",
   "metadata": {},
   "outputs": [],
   "source": [
    "emptySet = set()"
   ]
  },
  {
   "cell_type": "code",
   "execution_count": 120,
   "id": "1634547d-29a4-4ebb-9ab2-ce92ad5152aa",
   "metadata": {},
   "outputs": [
    {
     "data": {
      "text/plain": [
       "set()"
      ]
     },
     "execution_count": 120,
     "metadata": {},
     "output_type": "execute_result"
    }
   ],
   "source": [
    "emptySet"
   ]
  },
  {
   "cell_type": "code",
   "execution_count": 122,
   "id": "9fab0715-ee7f-4ba2-afcf-b5a532760204",
   "metadata": {},
   "outputs": [],
   "source": [
    "emptySet.add(10)\n",
    "emptySet.add(10)\n",
    "emptySet.add(20)\n",
    "emptySet.add(10)\n",
    "emptySet.add(20)\n",
    "emptySet.add(30)"
   ]
  },
  {
   "cell_type": "code",
   "execution_count": 124,
   "id": "9b1d4b00-2343-4178-9732-dd401544038c",
   "metadata": {},
   "outputs": [
    {
     "data": {
      "text/plain": [
       "{10, 20, 30}"
      ]
     },
     "execution_count": 124,
     "metadata": {},
     "output_type": "execute_result"
    }
   ],
   "source": [
    "emptySet"
   ]
  },
  {
   "cell_type": "code",
   "execution_count": 126,
   "id": "ee0127ad-c907-4e96-aedf-faefc4ec7075",
   "metadata": {},
   "outputs": [],
   "source": [
    "emptyDictionary = dict()"
   ]
  },
  {
   "cell_type": "code",
   "execution_count": 128,
   "id": "21bddba4-13df-4fb7-a295-fadffcdb5e1a",
   "metadata": {},
   "outputs": [
    {
     "data": {
      "text/plain": [
       "{}"
      ]
     },
     "execution_count": 128,
     "metadata": {},
     "output_type": "execute_result"
    }
   ],
   "source": [
    "emptyDictionary"
   ]
  },
  {
   "cell_type": "code",
   "execution_count": 142,
   "id": "272299e2-3625-4d3f-96e2-25651ad2e7a1",
   "metadata": {},
   "outputs": [],
   "source": [
    "emptyDictionary[\"k1\"] = \"v1\"\n",
    "emptyDictionary[\"k2\"] = \"v2\""
   ]
  },
  {
   "cell_type": "code",
   "execution_count": 144,
   "id": "54776128-7ea3-4e85-b252-7da822660ca2",
   "metadata": {},
   "outputs": [
    {
     "data": {
      "text/plain": [
       "{'k1': 'v1', 'k2': 'v2'}"
      ]
     },
     "execution_count": 144,
     "metadata": {},
     "output_type": "execute_result"
    }
   ],
   "source": [
    "emptyDictionary"
   ]
  },
  {
   "cell_type": "code",
   "execution_count": null,
   "id": "d30bbbc7-263e-4bef-9e49-d7e85b7f45f9",
   "metadata": {},
   "outputs": [],
   "source": []
  }
 ],
 "metadata": {
  "kernelspec": {
   "display_name": "Python 3 (ipykernel)",
   "language": "python",
   "name": "python3"
  },
  "language_info": {
   "codemirror_mode": {
    "name": "ipython",
    "version": 3
   },
   "file_extension": ".py",
   "mimetype": "text/x-python",
   "name": "python",
   "nbconvert_exporter": "python",
   "pygments_lexer": "ipython3",
   "version": "3.12.4"
  }
 },
 "nbformat": 4,
 "nbformat_minor": 5
}
