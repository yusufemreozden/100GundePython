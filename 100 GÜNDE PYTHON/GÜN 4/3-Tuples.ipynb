{
 "cells": [
  {
   "cell_type": "code",
   "execution_count": 2,
   "id": "6b73d3c5-71eb-4121-919c-dab236595577",
   "metadata": {},
   "outputs": [],
   "source": [
    "myList = [10,\"a\",3.14,\"b\"]"
   ]
  },
  {
   "cell_type": "code",
   "execution_count": 4,
   "id": "916f57b6-55e2-4903-b608-4dd0e7c48479",
   "metadata": {},
   "outputs": [
    {
     "data": {
      "text/plain": [
       "10"
      ]
     },
     "execution_count": 4,
     "metadata": {},
     "output_type": "execute_result"
    }
   ],
   "source": [
    "myList[0]"
   ]
  },
  {
   "cell_type": "code",
   "execution_count": 6,
   "id": "a35aee70-b08f-4508-aefc-f76261bdae49",
   "metadata": {},
   "outputs": [],
   "source": [
    "myList[0] = 100"
   ]
  },
  {
   "cell_type": "code",
   "execution_count": 8,
   "id": "3d253650-e33f-47ad-bb7e-03c2316c85ae",
   "metadata": {},
   "outputs": [
    {
     "data": {
      "text/plain": [
       "100"
      ]
     },
     "execution_count": 8,
     "metadata": {},
     "output_type": "execute_result"
    }
   ],
   "source": [
    "myList[0]"
   ]
  },
  {
   "cell_type": "code",
   "execution_count": 10,
   "id": "e0ae1754-4086-4616-9536-0a6755e465d3",
   "metadata": {},
   "outputs": [
    {
     "data": {
      "text/plain": [
       "[100, 'a', 3.14, 'b']"
      ]
     },
     "execution_count": 10,
     "metadata": {},
     "output_type": "execute_result"
    }
   ],
   "source": [
    "myList"
   ]
  },
  {
   "cell_type": "code",
   "execution_count": 12,
   "id": "1bfb246a-01c1-4241-9866-db06516d37b4",
   "metadata": {},
   "outputs": [],
   "source": [
    "# TUPLE"
   ]
  },
  {
   "cell_type": "code",
   "execution_count": 14,
   "id": "ffafc81d-d66a-4296-984e-957ad3b4438b",
   "metadata": {},
   "outputs": [],
   "source": [
    "myTuple = (10,\"a\",3.14,\"b\")"
   ]
  },
  {
   "cell_type": "code",
   "execution_count": 16,
   "id": "0881665f-ab5c-43aa-8f31-76b819f4be90",
   "metadata": {},
   "outputs": [
    {
     "data": {
      "text/plain": [
       "10"
      ]
     },
     "execution_count": 16,
     "metadata": {},
     "output_type": "execute_result"
    }
   ],
   "source": [
    "myTuple[0]"
   ]
  },
  {
   "cell_type": "code",
   "execution_count": 20,
   "id": "476a426f-c811-4c5a-ab3f-27659865ead4",
   "metadata": {},
   "outputs": [],
   "source": [
    "# myTuple[0] = 100 özelliği gereği index değişikliği yapılamaz"
   ]
  },
  {
   "cell_type": "code",
   "execution_count": 22,
   "id": "36e07428-7220-4e8d-af95-3c1926097f01",
   "metadata": {},
   "outputs": [
    {
     "name": "stdout",
     "output_type": "stream",
     "text": [
      "Help on built-in function index:\n",
      "\n",
      "index(value, start=0, stop=9223372036854775807, /) method of builtins.tuple instance\n",
      "    Return first index of value.\n",
      "\n",
      "    Raises ValueError if the value is not present.\n",
      "\n"
     ]
    }
   ],
   "source": [
    "help(myTuple.index)"
   ]
  },
  {
   "cell_type": "code",
   "execution_count": 24,
   "id": "5e497c24-987e-4df6-ac85-e0938abadd89",
   "metadata": {},
   "outputs": [
    {
     "data": {
      "text/plain": [
       "1"
      ]
     },
     "execution_count": 24,
     "metadata": {},
     "output_type": "execute_result"
    }
   ],
   "source": [
    "myTuple.index(\"a\") # \"a\" hangi indexte?"
   ]
  },
  {
   "cell_type": "code",
   "execution_count": 26,
   "id": "1ad9cb39-3e67-45fc-b5b3-145751a17f63",
   "metadata": {},
   "outputs": [
    {
     "data": {
      "text/plain": [
       "1"
      ]
     },
     "execution_count": 26,
     "metadata": {},
     "output_type": "execute_result"
    }
   ],
   "source": [
    "myTuple.count(\"a\") # \"a\" dan kaç tane var?"
   ]
  },
  {
   "cell_type": "code",
   "execution_count": null,
   "id": "f1c412eb-7b9a-4e2b-8c0a-4fe326d01c2e",
   "metadata": {},
   "outputs": [],
   "source": []
  }
 ],
 "metadata": {
  "kernelspec": {
   "display_name": "Python 3 (ipykernel)",
   "language": "python",
   "name": "python3"
  },
  "language_info": {
   "codemirror_mode": {
    "name": "ipython",
    "version": 3
   },
   "file_extension": ".py",
   "mimetype": "text/x-python",
   "name": "python",
   "nbconvert_exporter": "python",
   "pygments_lexer": "ipython3",
   "version": "3.12.4"
  }
 },
 "nbformat": 4,
 "nbformat_minor": 5
}
