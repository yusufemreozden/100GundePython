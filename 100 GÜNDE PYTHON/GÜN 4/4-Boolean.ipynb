{
 "cells": [
  {
   "cell_type": "code",
   "execution_count": 2,
   "id": "d72f265d-0876-42d0-902a-623ae3e28e2f",
   "metadata": {},
   "outputs": [],
   "source": [
    "# YA TRUE YA DA FALSE DEĞERİ ALIR."
   ]
  },
  {
   "cell_type": "code",
   "execution_count": 4,
   "id": "02a490f8-8777-40ee-90ee-ffbd45d06bf6",
   "metadata": {},
   "outputs": [],
   "source": [
    "myBool = True"
   ]
  },
  {
   "cell_type": "code",
   "execution_count": 6,
   "id": "d22e9174-d0e8-4fde-802d-cfa214c24378",
   "metadata": {},
   "outputs": [
    {
     "data": {
      "text/plain": [
       "True"
      ]
     },
     "execution_count": 6,
     "metadata": {},
     "output_type": "execute_result"
    }
   ],
   "source": [
    "myBool"
   ]
  },
  {
   "cell_type": "code",
   "execution_count": 8,
   "id": "3afbee7d-fb81-4de1-8053-6e109b46ea9d",
   "metadata": {},
   "outputs": [
    {
     "data": {
      "text/plain": [
       "bool"
      ]
     },
     "execution_count": 8,
     "metadata": {},
     "output_type": "execute_result"
    }
   ],
   "source": [
    "type(myBool)"
   ]
  },
  {
   "cell_type": "code",
   "execution_count": 10,
   "id": "b0236915-ff3f-44d3-ab34-4a0c0b21ad7c",
   "metadata": {},
   "outputs": [
    {
     "data": {
      "text/plain": [
       "False"
      ]
     },
     "execution_count": 10,
     "metadata": {},
     "output_type": "execute_result"
    }
   ],
   "source": [
    "5 < 3"
   ]
  },
  {
   "cell_type": "code",
   "execution_count": 12,
   "id": "d21cc329-dbf6-46ba-8ada-d8e507a15635",
   "metadata": {},
   "outputs": [
    {
     "data": {
      "text/plain": [
       "True"
      ]
     },
     "execution_count": 12,
     "metadata": {},
     "output_type": "execute_result"
    }
   ],
   "source": [
    "5 > 3"
   ]
  },
  {
   "cell_type": "code",
   "execution_count": 26,
   "id": "306bab95-5cf0-4963-b2f7-f6bf483be459",
   "metadata": {},
   "outputs": [
    {
     "name": "stdin",
     "output_type": "stream",
     "text": [
      "Lütfen yaşınızı giriniz:  22\n"
     ]
    }
   ],
   "source": [
    "age = input(\"Lütfen yaşınızı giriniz: \")"
   ]
  },
  {
   "cell_type": "code",
   "execution_count": 28,
   "id": "29ac2f36-ee8b-488a-a0fa-396740570b21",
   "metadata": {},
   "outputs": [
    {
     "data": {
      "text/plain": [
       "False"
      ]
     },
     "execution_count": 28,
     "metadata": {},
     "output_type": "execute_result"
    }
   ],
   "source": [
    "int(age) < 18"
   ]
  },
  {
   "cell_type": "code",
   "execution_count": null,
   "id": "5729425d-9cc7-4188-a5ca-c9a4e2ebd29c",
   "metadata": {},
   "outputs": [],
   "source": []
  }
 ],
 "metadata": {
  "kernelspec": {
   "display_name": "Python 3 (ipykernel)",
   "language": "python",
   "name": "python3"
  },
  "language_info": {
   "codemirror_mode": {
    "name": "ipython",
    "version": 3
   },
   "file_extension": ".py",
   "mimetype": "text/x-python",
   "name": "python",
   "nbconvert_exporter": "python",
   "pygments_lexer": "ipython3",
   "version": "3.12.4"
  }
 },
 "nbformat": 4,
 "nbformat_minor": 5
}
