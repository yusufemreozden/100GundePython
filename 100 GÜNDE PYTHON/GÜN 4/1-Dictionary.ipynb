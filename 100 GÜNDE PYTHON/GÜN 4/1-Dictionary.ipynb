{
 "cells": [
  {
   "cell_type": "code",
   "execution_count": 1,
   "id": "f3a12ec0-46ea-4a2a-abaf-9f99d71568d8",
   "metadata": {},
   "outputs": [],
   "source": [
    "fruit_list = [\"banana\",\"apple\"]"
   ]
  },
  {
   "cell_type": "code",
   "execution_count": 3,
   "id": "a1d85fcb-e750-4894-9393-2d7fd288aca1",
   "metadata": {},
   "outputs": [],
   "source": [
    "calorieList = [100,150]"
   ]
  },
  {
   "cell_type": "code",
   "execution_count": 5,
   "id": "f3a2c39d-a509-4895-9ede-f70d57e5e2de",
   "metadata": {},
   "outputs": [
    {
     "data": {
      "text/plain": [
       "'banana'"
      ]
     },
     "execution_count": 5,
     "metadata": {},
     "output_type": "execute_result"
    }
   ],
   "source": [
    "fruit_list[0]"
   ]
  },
  {
   "cell_type": "code",
   "execution_count": 7,
   "id": "814896b9-2f41-403e-a51a-18e80af8876a",
   "metadata": {},
   "outputs": [
    {
     "data": {
      "text/plain": [
       "100"
      ]
     },
     "execution_count": 7,
     "metadata": {},
     "output_type": "execute_result"
    }
   ],
   "source": [
    "calorieList[0]"
   ]
  },
  {
   "cell_type": "code",
   "execution_count": 9,
   "id": "0dc60a74-9e77-4a9a-9564-bf5c74a41dda",
   "metadata": {},
   "outputs": [],
   "source": [
    "fitnessDictionary = {\"banana\":100,\"apple\":150}"
   ]
  },
  {
   "cell_type": "code",
   "execution_count": 11,
   "id": "3d8f9f97-4fc2-4ba9-9cab-6b048bae60c1",
   "metadata": {},
   "outputs": [
    {
     "data": {
      "text/plain": [
       "dict"
      ]
     },
     "execution_count": 11,
     "metadata": {},
     "output_type": "execute_result"
    }
   ],
   "source": [
    "type(fitnessDictionary)"
   ]
  },
  {
   "cell_type": "code",
   "execution_count": 13,
   "id": "d1663c86-b623-41d7-a076-ba3ef97836e1",
   "metadata": {},
   "outputs": [
    {
     "data": {
      "text/plain": [
       "100"
      ]
     },
     "execution_count": 13,
     "metadata": {},
     "output_type": "execute_result"
    }
   ],
   "source": [
    "fitnessDictionary[\"banana\"]"
   ]
  },
  {
   "cell_type": "code",
   "execution_count": 15,
   "id": "7eb4e073-e5fb-4349-94a4-4098bf5de2d9",
   "metadata": {},
   "outputs": [
    {
     "data": {
      "text/plain": [
       "150"
      ]
     },
     "execution_count": 15,
     "metadata": {},
     "output_type": "execute_result"
    }
   ],
   "source": [
    "fitnessDictionary[\"apple\"]"
   ]
  },
  {
   "cell_type": "code",
   "execution_count": 17,
   "id": "a9c9370a-8878-4d50-b539-07fdd451ac43",
   "metadata": {},
   "outputs": [
    {
     "data": {
      "text/plain": [
       "dict_keys(['banana', 'apple'])"
      ]
     },
     "execution_count": 17,
     "metadata": {},
     "output_type": "execute_result"
    }
   ],
   "source": [
    "fitnessDictionary.keys()"
   ]
  },
  {
   "cell_type": "code",
   "execution_count": 19,
   "id": "ad26ade1-ba8b-496d-bd9c-a33252a2c56b",
   "metadata": {},
   "outputs": [
    {
     "data": {
      "text/plain": [
       "dict_values([100, 150])"
      ]
     },
     "execution_count": 19,
     "metadata": {},
     "output_type": "execute_result"
    }
   ],
   "source": [
    "fitnessDictionary.values()"
   ]
  },
  {
   "cell_type": "code",
   "execution_count": 23,
   "id": "878a6036-f9f2-40fb-8892-418c112d63fb",
   "metadata": {},
   "outputs": [],
   "source": [
    "fitnessDictionary[\"banana\"]=200"
   ]
  },
  {
   "cell_type": "code",
   "execution_count": 27,
   "id": "56dba34e-9b6f-4be4-a71d-1df69df8899a",
   "metadata": {},
   "outputs": [
    {
     "data": {
      "text/plain": [
       "{'banana': 200, 'apple': 150}"
      ]
     },
     "execution_count": 27,
     "metadata": {},
     "output_type": "execute_result"
    }
   ],
   "source": [
    "fitnessDictionary"
   ]
  },
  {
   "cell_type": "code",
   "execution_count": 29,
   "id": "71ed429e-934e-49dd-9321-48ccae91371d",
   "metadata": {},
   "outputs": [],
   "source": [
    "fitnessDictionary[\"melon\"]=225"
   ]
  },
  {
   "cell_type": "code",
   "execution_count": 31,
   "id": "bee8500a-64a4-49e8-9801-5d8e9cbfd8dc",
   "metadata": {},
   "outputs": [
    {
     "data": {
      "text/plain": [
       "{'banana': 200, 'apple': 150, 'melon': 225}"
      ]
     },
     "execution_count": 31,
     "metadata": {},
     "output_type": "execute_result"
    }
   ],
   "source": [
    "fitnessDictionary"
   ]
  },
  {
   "cell_type": "code",
   "execution_count": 33,
   "id": "0b0eecc7-4b2c-4d85-a06e-c8bafaf8e5c8",
   "metadata": {},
   "outputs": [],
   "source": [
    "myDictionary = {\"key1\":\"value1\",\"key2\":\"value2\"}"
   ]
  },
  {
   "cell_type": "code",
   "execution_count": 37,
   "id": "7e1bf3d4-d087-4c45-8c6f-ea132abdef82",
   "metadata": {},
   "outputs": [
    {
     "data": {
      "text/plain": [
       "'value1'"
      ]
     },
     "execution_count": 37,
     "metadata": {},
     "output_type": "execute_result"
    }
   ],
   "source": [
    "myDictionary[\"key1\"]"
   ]
  },
  {
   "cell_type": "code",
   "execution_count": 39,
   "id": "2ef90506-43bc-4d79-aeb7-d050a138da3e",
   "metadata": {},
   "outputs": [],
   "source": [
    "lastDictionary = {\"k1\":10,\"k2\":[10,20,30,40],\"k3\":\"string\",\"k4\":{\"a\":100,\"b\":200}}"
   ]
  },
  {
   "cell_type": "code",
   "execution_count": 63,
   "id": "accfbfd5-71a3-4aee-8e62-784cf9892229",
   "metadata": {},
   "outputs": [
    {
     "name": "stdout",
     "output_type": "stream",
     "text": [
      "200\n"
     ]
    }
   ],
   "source": [
    "print(lastDictionary[\"k2\"][1]+180) "
   ]
  },
  {
   "cell_type": "code",
   "execution_count": 65,
   "id": "87ce4d5d-c8d1-4144-8978-27d756f288dc",
   "metadata": {},
   "outputs": [
    {
     "data": {
      "text/plain": [
       "200"
      ]
     },
     "execution_count": 65,
     "metadata": {},
     "output_type": "execute_result"
    }
   ],
   "source": [
    "lastDictionary[\"k4\"][\"b\"]"
   ]
  },
  {
   "cell_type": "code",
   "execution_count": 67,
   "id": "b4d72af5-7182-4d18-aaf1-5fbeef799896",
   "metadata": {},
   "outputs": [
    {
     "name": "stdout",
     "output_type": "stream",
     "text": [
      "40\n"
     ]
    }
   ],
   "source": [
    "print(lastDictionary[\"k2\"][1]*2) "
   ]
  },
  {
   "cell_type": "code",
   "execution_count": 71,
   "id": "99e1b1a1-351b-4469-9c2e-fb9e1b132f8b",
   "metadata": {},
   "outputs": [
    {
     "name": "stdout",
     "output_type": "stream",
     "text": [
      "40\n"
     ]
    }
   ],
   "source": [
    "print(lastDictionary[\"k2\"][3])"
   ]
  },
  {
   "cell_type": "code",
   "execution_count": null,
   "id": "a9e4d5bb-02b2-4bf3-b3cd-669ca2ff0271",
   "metadata": {},
   "outputs": [],
   "source": []
  }
 ],
 "metadata": {
  "kernelspec": {
   "display_name": "Python 3 (ipykernel)",
   "language": "python",
   "name": "python3"
  },
  "language_info": {
   "codemirror_mode": {
    "name": "ipython",
    "version": 3
   },
   "file_extension": ".py",
   "mimetype": "text/x-python",
   "name": "python",
   "nbconvert_exporter": "python",
   "pygments_lexer": "ipython3",
   "version": "3.12.4"
  }
 },
 "nbformat": 4,
 "nbformat_minor": 5
}
